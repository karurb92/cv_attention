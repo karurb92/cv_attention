{
 "cells": [
  {
   "cell_type": "code",
   "execution_count": 1,
   "metadata": {},
   "outputs": [],
   "source": [
    "import numpy as np\n",
    "import os\n",
    "import pickle\n",
    "import matplotlib.pyplot as plt\n",
    "import torch\n",
    "import torch.optim as optim\n",
    "\n",
    "from data_processing.cifar_100 import Cifar100\n",
    "from data_processing.data_generator import DataGenerator\n",
    "from data_processing.transforms import *\n",
    "from approach_1.models import BaselineResNet\n",
    "from approach_1.baseline_training import BaselineSolver\n",
    "\n",
    "%load_ext autoreload\n",
    "%autoreload 2"
   ]
  },
  {
   "cell_type": "code",
   "execution_count": 2,
   "metadata": {},
   "outputs": [
    {
     "name": "stderr",
     "output_type": "stream",
     "text": [
      "e:\\!LMU\\PythonProjects\\generaldsvenv\\lib\\site-packages\\torch\\cuda\\__init__.py:52: UserWarning: CUDA initialization: The NVIDIA driver on your system is too old (found version 8000). Please update your GPU driver by downloading and installing a new version from the URL: http://www.nvidia.com/Download/index.aspx Alternatively, go to: https://pytorch.org to install a PyTorch version that has been compiled with your version of the CUDA driver. (Triggered internally at  ..\\c10\\cuda\\CUDAFunctions.cpp:100.)\n",
      "  return torch._C._cuda_getDeviceCount() > 0\n"
     ]
    },
    {
     "name": "stdout",
     "output_type": "stream",
     "text": [
      "[Epoch 1, Iteration     5] loss: 2.68692\n",
      "[Epoch 1, Iteration    10] loss: 4.53789\n",
      "[Epoch 1, Iteration    15] loss: 4.01386\n",
      "[Epoch 1, Iteration    20] loss: 4.49769\n",
      "[Epoch 1, Iteration    25] loss: 3.55421\n",
      "[Epoch 1, Iteration    30] loss: 3.56553\n",
      "[Epoch 1, Iteration    35] loss: 4.65448\n",
      "[Epoch 1, Iteration    40] loss: 3.48424\n",
      "[Epoch 1, Iteration    45] loss: 3.35957\n",
      "[Epoch 1, Iteration    50] loss: 4.12943\n",
      "Training accuracy after epoch 1: 0.12999999523162842\n",
      "Validation accuracy after epoch 1: 0.03999999910593033\n",
      "[Epoch 2, Iteration     5] loss: 4.38255\n",
      "[Epoch 2, Iteration    10] loss: 2.71874\n",
      "[Epoch 2, Iteration    15] loss: 2.72712\n",
      "[Epoch 2, Iteration    20] loss: 3.32118\n",
      "[Epoch 2, Iteration    25] loss: 3.02486\n",
      "[Epoch 2, Iteration    30] loss: 3.55531\n",
      "[Epoch 2, Iteration    35] loss: 3.57472\n",
      "[Epoch 2, Iteration    40] loss: 2.62976\n",
      "[Epoch 2, Iteration    45] loss: 2.70567\n",
      "[Epoch 2, Iteration    50] loss: 3.92151\n",
      "Training accuracy after epoch 2: 0.10000000149011612\n",
      "Validation accuracy after epoch 2: 0.019999999552965164\n",
      "FINISH.\n",
      "Saving model... e:\\!LMU\\PythonProjects\\cv_attention\\trained_models\\baselinemodel_batch1_lr0.001_epochs2_freezeFalse.model\n"
     ]
    },
    {
     "data": {
      "text/plain": [
       "'\\nplt.title(\\'Loss curves\\')\\nplt.plot(solver.train_loss_history, \\'-\\', label=\\'train\\')\\nplt.plot(solver.val_loss_history, \\'-\\', label=\\'val\\')\\nplt.legend(loc=\\'lower right\\')\\nplt.xlabel(\\'Iteration\\')\\nplt.show()\\n\\nprint(\"Training accuray: %.5f\" % (solver.get_dataset_accuracy(dataloaders[\\'train_overfit_single_image\\'])))\\nprint(\"Validation accuray: %.5f\" % (solver.get_dataset_accuracy(dataloaders[\\'val_500files\\'])))\\n'"
      ]
     },
     "execution_count": 2,
     "metadata": {},
     "output_type": "execute_result"
    }
   ],
   "source": [
    "hparams = {\n",
    "    'batch_size': 1,\n",
    "    'learning_rate': 1e-3,\n",
    "    'epochs': 2,\n",
    "    'loss_func': torch.nn.CrossEntropyLoss(),\n",
    "    'optimizer': optim.AdamW\n",
    "}\n",
    "\n",
    "num_classes = 20\n",
    "freeze=False\n",
    "patience = 3\n",
    "repo_root = os.path.abspath(os.getcwd())\n",
    "data_root = os.path.join(repo_root, \"data\")\n",
    "seed = 69\n",
    "split = 0.7\n",
    "patch_size = 16\n",
    "\n",
    "transforms = [RescaleTransform(), ReshapeToTensor(), Patches(patch_size=patch_size), Resize()]\n",
    "train = Cifar100(root=data_root, purpose='train', seed=seed, split=0.001, transform=transforms)\n",
    "val = Cifar100(root=data_root, purpose='val', seed=seed, split=0.999, transform=transforms)\n",
    "\n",
    "train_dataloader = DataGenerator(train, batch_size=hparams['batch_size'])\n",
    "val_dataloader = DataGenerator(val, batch_size=hparams['batch_size'])\n",
    "model = BaselineResNet(num_classes=num_classes, hparams=hparams, freeze=freeze)\n",
    "\n",
    "device = torch.device(\"cuda:0\" if torch.cuda.is_available() else \"cpu\")\n",
    "\n",
    "solver = BaselineSolver(\n",
    "    model=model,\n",
    "    train_dataloader=train_dataloader,\n",
    "    val_dataloader=val_dataloader,\n",
    "    device=device,\n",
    "    patience=patience\n",
    ")\n",
    "\n",
    "solver.train()\n",
    "\n",
    "os.makedirs('trained_models', exist_ok=True)\n",
    "models_path = os.path.join(repo_root, 'trained_models')\n",
    "model.save(os.path.join(models_path, f'baselinemodel_batch{hparams[\"batch_size\"]}_lr{hparams[\"learning_rate\"]}_epochs{hparams[\"epochs\"]}_freeze{freeze}.model'))\n",
    "\n",
    "'''\n",
    "plt.title('Loss curves')\n",
    "plt.plot(solver.train_loss_history, '-', label='train')\n",
    "plt.plot(solver.val_loss_history, '-', label='val')\n",
    "plt.legend(loc='lower right')\n",
    "plt.xlabel('Iteration')\n",
    "plt.show()\n",
    "\n",
    "print(\"Training accuray: %.5f\" % (solver.get_dataset_accuracy(dataloaders['train_overfit_single_image'])))\n",
    "print(\"Validation accuray: %.5f\" % (solver.get_dataset_accuracy(dataloaders['val_500files'])))\n",
    "'''"
   ]
  },
  {
   "cell_type": "code",
   "execution_count": 3,
   "metadata": {},
   "outputs": [
    {
     "name": "stdout",
     "output_type": "stream",
     "text": [
      "[Epoch 1, Iteration     1] loss: 3.15119\n",
      "[Epoch 1, Iteration     2] loss: 6.55386\n",
      "[Epoch 1, Iteration     3] loss: 12.97375\n",
      "[Epoch 1, Iteration     4] loss: 8.27364\n",
      "[Epoch 1, Iteration     5] loss: 6.34709\n",
      "[Epoch 1, Iteration     6] loss: 5.60924\n",
      "[Epoch 1, Iteration     7] loss: 4.54106\n",
      "[Epoch 1, Iteration     8] loss: 5.27723\n",
      "[Epoch 1, Iteration     9] loss: 4.70683\n",
      "[Epoch 1, Iteration    10] loss: 5.79413\n",
      "[Epoch 1, Iteration    11] loss: 4.46769\n",
      "[Epoch 1, Iteration    12] loss: 4.34472\n",
      "[Epoch 1, Iteration    13] loss: 3.81410\n",
      "[Epoch 1, Iteration    14] loss: 4.27671\n",
      "[Epoch 1, Iteration    15] loss: 5.78943\n",
      "[Epoch 1, Iteration    16] loss: 2.75463\n",
      "[Epoch 1, Iteration    17] loss: 3.70401\n",
      "[Epoch 1, Iteration    18] loss: 5.29587\n",
      "[Epoch 1, Iteration    19] loss: 6.46343\n",
      "[Epoch 1, Iteration    20] loss: 4.26429\n",
      "[Epoch 1, Iteration    21] loss: 4.07189\n",
      "[Epoch 1, Iteration    22] loss: 4.76640\n",
      "[Epoch 1, Iteration    23] loss: 3.59940\n",
      "[Epoch 1, Iteration    24] loss: 4.41170\n",
      "[Epoch 1, Iteration    25] loss: 4.06001\n",
      "[Epoch 1, Iteration    26] loss: 4.02544\n",
      "[Epoch 1, Iteration    27] loss: 5.32556\n",
      "[Epoch 1, Iteration    28] loss: 4.48094\n",
      "[Epoch 1, Iteration    29] loss: 3.51922\n",
      "[Epoch 1, Iteration    30] loss: 4.75158\n",
      "[Epoch 1, Iteration    31] loss: 3.85065\n",
      "[Epoch 1, Iteration    32] loss: 3.10591\n",
      "[Epoch 1, Iteration    33] loss: 4.03058\n",
      "[Epoch 1, Iteration    34] loss: 3.57732\n",
      "[Epoch 1, Iteration    35] loss: 3.03170\n",
      "[Epoch 1, Iteration    36] loss: 3.47172\n",
      "[Epoch 1, Iteration    37] loss: 3.43454\n",
      "[Epoch 1, Iteration    38] loss: 3.29596\n",
      "[Epoch 1, Iteration    39] loss: 3.99498\n",
      "[Epoch 1, Iteration    40] loss: 3.46902\n",
      "[Epoch 1, Iteration    41] loss: 2.70165\n",
      "[Epoch 1, Iteration    42] loss: 3.45091\n",
      "[Epoch 1, Iteration    43] loss: 3.38882\n",
      "[Epoch 1, Iteration    44] loss: 3.37207\n",
      "[Epoch 1, Iteration    45] loss: 3.37542\n",
      "[Epoch 1, Iteration    46] loss: 3.18610\n",
      "[Epoch 1, Iteration    47] loss: 3.12933\n",
      "[Epoch 1, Iteration    48] loss: 2.80832\n",
      "[Epoch 1, Iteration    49] loss: 3.15984\n",
      "[Epoch 1, Iteration    50] loss: 3.62936\n",
      "[Epoch 1, Iteration    51] loss: 3.30760\n",
      "[Epoch 1, Iteration    52] loss: 3.17568\n",
      "[Epoch 1, Iteration    53] loss: 2.91767\n",
      "[Epoch 1, Iteration    54] loss: 3.60720\n",
      "[Epoch 1, Iteration    55] loss: 4.29944\n",
      "[Epoch 1, Iteration    56] loss: 3.90853\n",
      "[Epoch 1, Iteration    57] loss: 3.72689\n",
      "[Epoch 1, Iteration    58] loss: 3.55738\n",
      "[Epoch 1, Iteration    59] loss: 2.96255\n",
      "[Epoch 1, Iteration    60] loss: 4.40567\n",
      "[Epoch 1, Iteration    61] loss: 4.06140\n",
      "[Epoch 1, Iteration    62] loss: 3.17631\n",
      "[Epoch 1, Iteration    63] loss: 3.15249\n",
      "[Epoch 1, Iteration    64] loss: 3.18945\n",
      "[Epoch 1, Iteration    65] loss: 3.78202\n",
      "[Epoch 1, Iteration    66] loss: 3.37654\n",
      "[Epoch 1, Iteration    67] loss: 3.05659\n",
      "[Epoch 1, Iteration    68] loss: 3.67553\n",
      "[Epoch 1, Iteration    69] loss: 3.14172\n",
      "[Epoch 1, Iteration    70] loss: 3.08644\n",
      "[Epoch 1, Iteration    71] loss: 2.83505\n",
      "[Epoch 1, Iteration    72] loss: 3.21480\n",
      "[Epoch 1, Iteration    73] loss: 3.13929\n",
      "[Epoch 1, Iteration    74] loss: 3.48064\n",
      "[Epoch 1, Iteration    75] loss: 3.61596\n",
      "[Epoch 1, Iteration    76] loss: 3.02670\n",
      "[Epoch 1, Iteration    77] loss: 2.86516\n",
      "[Epoch 1, Iteration    78] loss: 2.93118\n",
      "[Epoch 1, Iteration    79] loss: 3.35603\n",
      "[Epoch 1, Iteration    80] loss: 3.20882\n",
      "[Epoch 1, Iteration    81] loss: 3.05555\n",
      "[Epoch 1, Iteration    82] loss: 3.01854\n",
      "[Epoch 1, Iteration    83] loss: 2.85745\n",
      "[Epoch 1, Iteration    84] loss: 3.01099\n",
      "[Epoch 1, Iteration    85] loss: 2.84195\n",
      "[Epoch 1, Iteration    86] loss: 3.17312\n",
      "[Epoch 1, Iteration    87] loss: 3.15609\n",
      "[Epoch 1, Iteration    88] loss: 3.03796\n",
      "[Epoch 1, Iteration    89] loss: 3.01777\n",
      "[Epoch 1, Iteration    90] loss: 3.14814\n",
      "[Epoch 1, Iteration    91] loss: 3.13480\n",
      "[Epoch 1, Iteration    92] loss: 3.20151\n",
      "[Epoch 1, Iteration    93] loss: 2.97003\n",
      "[Epoch 1, Iteration    94] loss: 3.24371\n",
      "[Epoch 1, Iteration    95] loss: 3.28306\n",
      "[Epoch 1, Iteration    96] loss: 3.13646\n",
      "[Epoch 1, Iteration    97] loss: 2.98048\n",
      "[Epoch 1, Iteration    98] loss: 3.16931\n",
      "[Epoch 1, Iteration    99] loss: 3.03822\n",
      "[Epoch 1, Iteration   100] loss: 3.18066\n",
      "[Epoch 1, Iteration   101] loss: 3.00321\n",
      "[Epoch 1, Iteration   102] loss: 2.81811\n",
      "[Epoch 1, Iteration   103] loss: 3.15695\n",
      "[Epoch 1, Iteration   104] loss: 3.03407\n",
      "[Epoch 1, Iteration   105] loss: 3.09546\n",
      "[Epoch 1, Iteration   106] loss: 2.93226\n",
      "[Epoch 1, Iteration   107] loss: 3.11462\n",
      "[Epoch 1, Iteration   108] loss: 3.04896\n",
      "[Epoch 1, Iteration   109] loss: 3.84494\n",
      "[Epoch 1, Iteration   110] loss: 2.79768\n",
      "[Epoch 1, Iteration   111] loss: 3.21914\n",
      "[Epoch 1, Iteration   112] loss: 3.00407\n",
      "[Epoch 1, Iteration   113] loss: 2.93137\n",
      "[Epoch 1, Iteration   114] loss: 3.20316\n",
      "[Epoch 1, Iteration   115] loss: 3.04634\n",
      "[Epoch 1, Iteration   116] loss: 3.00227\n",
      "[Epoch 1, Iteration   117] loss: 3.49503\n",
      "[Epoch 1, Iteration   118] loss: 2.85775\n",
      "[Epoch 1, Iteration   119] loss: 2.94551\n",
      "[Epoch 1, Iteration   120] loss: 3.00664\n",
      "[Epoch 1, Iteration   121] loss: 2.94888\n",
      "[Epoch 1, Iteration   122] loss: 2.81509\n",
      "[Epoch 1, Iteration   123] loss: 3.18131\n",
      "[Epoch 1, Iteration   124] loss: 3.24807\n",
      "[Epoch 1, Iteration   125] loss: 2.87687\n",
      "[Epoch 1, Iteration   126] loss: 3.26121\n",
      "[Epoch 1, Iteration   127] loss: 2.94143\n",
      "[Epoch 1, Iteration   128] loss: 3.27672\n",
      "[Epoch 1, Iteration   129] loss: 2.92311\n",
      "[Epoch 1, Iteration   130] loss: 2.94195\n",
      "[Epoch 1, Iteration   131] loss: 3.28095\n",
      "[Epoch 1, Iteration   132] loss: 2.98081\n",
      "[Epoch 1, Iteration   133] loss: 3.01970\n",
      "[Epoch 1, Iteration   134] loss: 3.02797\n",
      "[Epoch 1, Iteration   135] loss: 2.96800\n",
      "[Epoch 1, Iteration   136] loss: 3.01503\n",
      "[Epoch 1, Iteration   137] loss: 2.94221\n",
      "[Epoch 1, Iteration   138] loss: 3.09387\n",
      "[Epoch 1, Iteration   139] loss: 2.96658\n",
      "[Epoch 1, Iteration   140] loss: 2.98872\n",
      "[Epoch 1, Iteration   141] loss: 3.05061\n",
      "[Epoch 1, Iteration   142] loss: 3.37212\n",
      "[Epoch 1, Iteration   143] loss: 2.98650\n",
      "[Epoch 1, Iteration   144] loss: 2.99732\n",
      "[Epoch 1, Iteration   145] loss: 3.11305\n",
      "[Epoch 1, Iteration   146] loss: 3.02141\n",
      "[Epoch 1, Iteration   147] loss: 2.96036\n",
      "[Epoch 1, Iteration   148] loss: 3.06548\n",
      "[Epoch 1, Iteration   149] loss: 2.86323\n",
      "[Epoch 1, Iteration   150] loss: 3.03815\n",
      "[Epoch 1, Iteration   151] loss: 3.12920\n",
      "[Epoch 1, Iteration   152] loss: 3.03691\n",
      "[Epoch 1, Iteration   153] loss: 3.04157\n",
      "[Epoch 1, Iteration   154] loss: 2.95405\n",
      "[Epoch 1, Iteration   155] loss: 3.18661\n",
      "[Epoch 1, Iteration   156] loss: 3.08811\n",
      "[Epoch 1, Iteration   157] loss: 3.01436\n",
      "[Epoch 1, Iteration   158] loss: 3.17008\n",
      "[Epoch 1, Iteration   159] loss: 3.01930\n",
      "[Epoch 1, Iteration   160] loss: 3.05191\n",
      "[Epoch 1, Iteration   161] loss: 2.97795\n",
      "[Epoch 1, Iteration   162] loss: 3.05187\n",
      "[Epoch 1, Iteration   163] loss: 3.13935\n",
      "[Epoch 1, Iteration   164] loss: 2.97010\n",
      "[Epoch 1, Iteration   165] loss: 3.11925\n",
      "[Epoch 1, Iteration   166] loss: 3.04488\n",
      "[Epoch 1, Iteration   167] loss: 3.06809\n",
      "[Epoch 1, Iteration   168] loss: 3.02138\n",
      "[Epoch 1, Iteration   169] loss: 2.94596\n",
      "[Epoch 1, Iteration   170] loss: 2.98416\n",
      "[Epoch 1, Iteration   171] loss: 2.96499\n",
      "[Epoch 1, Iteration   172] loss: 2.97817\n",
      "[Epoch 1, Iteration   173] loss: 3.04542\n",
      "[Epoch 1, Iteration   174] loss: 2.99150\n",
      "[Epoch 1, Iteration   175] loss: 3.04266\n",
      "[Epoch 1, Iteration   176] loss: 3.04209\n",
      "[Epoch 1, Iteration   177] loss: 3.00457\n",
      "[Epoch 1, Iteration   178] loss: 3.03290\n",
      "[Epoch 1, Iteration   179] loss: 2.88474\n",
      "[Epoch 1, Iteration   180] loss: 3.03375\n",
      "[Epoch 1, Iteration   181] loss: 3.13769\n",
      "[Epoch 1, Iteration   182] loss: 2.85749\n",
      "[Epoch 1, Iteration   183] loss: 3.00617\n",
      "[Epoch 1, Iteration   184] loss: 2.95308\n",
      "[Epoch 1, Iteration   185] loss: 3.03654\n",
      "[Epoch 1, Iteration   186] loss: 2.98280\n",
      "[Epoch 1, Iteration   187] loss: 2.98238\n",
      "[Epoch 1, Iteration   188] loss: 2.98477\n",
      "[Epoch 1, Iteration   189] loss: 3.00484\n",
      "[Epoch 1, Iteration   190] loss: 3.12845\n",
      "[Epoch 1, Iteration   191] loss: 3.07711\n",
      "[Epoch 1, Iteration   192] loss: 2.85894\n",
      "[Epoch 1, Iteration   193] loss: 2.97715\n",
      "[Epoch 1, Iteration   194] loss: 3.00848\n",
      "[Epoch 1, Iteration   195] loss: 3.01950\n",
      "[Epoch 1, Iteration   196] loss: 2.96727\n",
      "[Epoch 1, Iteration   197] loss: 3.02951\n",
      "[Epoch 1, Iteration   198] loss: 2.89384\n",
      "[Epoch 1, Iteration   199] loss: 3.01456\n",
      "[Epoch 1, Iteration   200] loss: 3.12102\n",
      "[Epoch 1, Iteration   201] loss: 3.06760\n",
      "[Epoch 1, Iteration   202] loss: 3.08228\n",
      "[Epoch 1, Iteration   203] loss: 2.98775\n",
      "[Epoch 1, Iteration   204] loss: 3.06919\n",
      "[Epoch 1, Iteration   205] loss: 3.06374\n",
      "[Epoch 1, Iteration   206] loss: 2.91446\n",
      "[Epoch 1, Iteration   207] loss: 3.02905\n",
      "[Epoch 1, Iteration   208] loss: 2.98927\n",
      "[Epoch 1, Iteration   209] loss: 2.95301\n",
      "[Epoch 1, Iteration   210] loss: 3.00388\n",
      "[Epoch 1, Iteration   211] loss: 3.00266\n",
      "[Epoch 1, Iteration   212] loss: 2.95250\n",
      "[Epoch 1, Iteration   213] loss: 3.04732\n",
      "[Epoch 1, Iteration   214] loss: 2.89901\n",
      "[Epoch 1, Iteration   215] loss: 2.93932\n",
      "[Epoch 1, Iteration   216] loss: 2.98084\n",
      "[Epoch 1, Iteration   217] loss: 2.96599\n",
      "[Epoch 1, Iteration   218] loss: 2.96293\n",
      "[Epoch 1, Iteration   219] loss: 3.06079\n",
      "[Epoch 1, Iteration   220] loss: 3.04706\n",
      "[Epoch 1, Iteration   221] loss: 3.01233\n",
      "[Epoch 1, Iteration   222] loss: 3.06286\n",
      "[Epoch 1, Iteration   223] loss: 3.02350\n",
      "[Epoch 1, Iteration   224] loss: 3.04821\n",
      "[Epoch 1, Iteration   225] loss: 3.05378\n",
      "[Epoch 1, Iteration   226] loss: 3.02038\n",
      "[Epoch 1, Iteration   227] loss: 2.92602\n",
      "[Epoch 1, Iteration   228] loss: 2.91633\n",
      "[Epoch 1, Iteration   229] loss: 3.03333\n",
      "[Epoch 1, Iteration   230] loss: 3.05426\n",
      "[Epoch 1, Iteration   231] loss: 3.06477\n",
      "[Epoch 1, Iteration   232] loss: 2.83143\n",
      "[Epoch 1, Iteration   233] loss: 2.99199\n",
      "[Epoch 1, Iteration   234] loss: 2.99610\n",
      "[Epoch 1, Iteration   235] loss: 2.99757\n",
      "[Epoch 1, Iteration   236] loss: 2.99975\n",
      "[Epoch 1, Iteration   237] loss: 3.05691\n",
      "[Epoch 1, Iteration   238] loss: 2.99606\n",
      "[Epoch 1, Iteration   239] loss: 3.06093\n",
      "[Epoch 1, Iteration   240] loss: 3.02301\n",
      "[Epoch 1, Iteration   241] loss: 3.03216\n",
      "[Epoch 1, Iteration   242] loss: 2.98017\n",
      "[Epoch 1, Iteration   243] loss: 2.99790\n",
      "[Epoch 1, Iteration   244] loss: 3.06978\n",
      "[Epoch 1, Iteration   245] loss: 3.09362\n",
      "[Epoch 1, Iteration   246] loss: 2.94089\n",
      "[Epoch 1, Iteration   247] loss: 3.03755\n",
      "[Epoch 1, Iteration   248] loss: 2.97302\n",
      "[Epoch 1, Iteration   249] loss: 3.06853\n",
      "[Epoch 1, Iteration   250] loss: 2.95820\n",
      "[Epoch 1, Iteration   251] loss: 3.00928\n",
      "[Epoch 1, Iteration   252] loss: 2.98491\n",
      "[Epoch 1, Iteration   253] loss: 3.00544\n",
      "[Epoch 1, Iteration   254] loss: 3.05023\n",
      "[Epoch 1, Iteration   255] loss: 3.00009\n",
      "[Epoch 1, Iteration   256] loss: 2.99459\n",
      "[Epoch 1, Iteration   257] loss: 3.03235\n",
      "[Epoch 1, Iteration   258] loss: 2.93692\n",
      "[Epoch 1, Iteration   259] loss: 3.05250\n",
      "[Epoch 1, Iteration   260] loss: 3.01693\n",
      "[Epoch 1, Iteration   261] loss: 3.00080\n",
      "[Epoch 1, Iteration   262] loss: 2.97478\n",
      "[Epoch 1, Iteration   263] loss: 3.03386\n"
     ]
    },
    {
     "ename": "KeyboardInterrupt",
     "evalue": "",
     "output_type": "error",
     "traceback": [
      "\u001b[1;31m---------------------------------------------------------------------------\u001b[0m",
      "\u001b[1;31mKeyboardInterrupt\u001b[0m                         Traceback (most recent call last)",
      "\u001b[1;32m~\\AppData\\Local\\Temp/ipykernel_6728/3410879403.py\u001b[0m in \u001b[0;36m<module>\u001b[1;34m\u001b[0m\n\u001b[0;32m     51\u001b[0m \u001b[1;33m\u001b[0m\u001b[0m\n\u001b[0;32m     52\u001b[0m         \u001b[0mloss\u001b[0m \u001b[1;33m=\u001b[0m \u001b[0mcriterion\u001b[0m\u001b[1;33m(\u001b[0m\u001b[0mpredictions\u001b[0m\u001b[1;33m,\u001b[0m \u001b[0mlabels\u001b[0m\u001b[1;33m)\u001b[0m \u001b[1;31m# calculate the loss with the network predictions and ground Truth\u001b[0m\u001b[1;33m\u001b[0m\u001b[1;33m\u001b[0m\u001b[0m\n\u001b[1;32m---> 53\u001b[1;33m         \u001b[0mloss\u001b[0m\u001b[1;33m.\u001b[0m\u001b[0mbackward\u001b[0m\u001b[1;33m(\u001b[0m\u001b[1;33m)\u001b[0m             \u001b[1;31m# Perform a backward pass to calculate the gradients\u001b[0m\u001b[1;33m\u001b[0m\u001b[1;33m\u001b[0m\u001b[0m\n\u001b[0m\u001b[0;32m     54\u001b[0m         \u001b[0moptimizer\u001b[0m\u001b[1;33m.\u001b[0m\u001b[0mstep\u001b[0m\u001b[1;33m(\u001b[0m\u001b[1;33m)\u001b[0m            \u001b[1;31m# Optimize the network parameters with calculated gradients\u001b[0m\u001b[1;33m\u001b[0m\u001b[1;33m\u001b[0m\u001b[0m\n\u001b[0;32m     55\u001b[0m \u001b[1;33m\u001b[0m\u001b[0m\n",
      "\u001b[1;32me:\\!LMU\\PythonProjects\\generaldsvenv\\lib\\site-packages\\torch\\tensor.py\u001b[0m in \u001b[0;36mbackward\u001b[1;34m(self, gradient, retain_graph, create_graph)\u001b[0m\n\u001b[0;32m    219\u001b[0m                 \u001b[0mretain_graph\u001b[0m\u001b[1;33m=\u001b[0m\u001b[0mretain_graph\u001b[0m\u001b[1;33m,\u001b[0m\u001b[1;33m\u001b[0m\u001b[1;33m\u001b[0m\u001b[0m\n\u001b[0;32m    220\u001b[0m                 create_graph=create_graph)\n\u001b[1;32m--> 221\u001b[1;33m         \u001b[0mtorch\u001b[0m\u001b[1;33m.\u001b[0m\u001b[0mautograd\u001b[0m\u001b[1;33m.\u001b[0m\u001b[0mbackward\u001b[0m\u001b[1;33m(\u001b[0m\u001b[0mself\u001b[0m\u001b[1;33m,\u001b[0m \u001b[0mgradient\u001b[0m\u001b[1;33m,\u001b[0m \u001b[0mretain_graph\u001b[0m\u001b[1;33m,\u001b[0m \u001b[0mcreate_graph\u001b[0m\u001b[1;33m)\u001b[0m\u001b[1;33m\u001b[0m\u001b[1;33m\u001b[0m\u001b[0m\n\u001b[0m\u001b[0;32m    222\u001b[0m \u001b[1;33m\u001b[0m\u001b[0m\n\u001b[0;32m    223\u001b[0m     \u001b[1;32mdef\u001b[0m \u001b[0mregister_hook\u001b[0m\u001b[1;33m(\u001b[0m\u001b[0mself\u001b[0m\u001b[1;33m,\u001b[0m \u001b[0mhook\u001b[0m\u001b[1;33m)\u001b[0m\u001b[1;33m:\u001b[0m\u001b[1;33m\u001b[0m\u001b[1;33m\u001b[0m\u001b[0m\n",
      "\u001b[1;32me:\\!LMU\\PythonProjects\\generaldsvenv\\lib\\site-packages\\torch\\autograd\\__init__.py\u001b[0m in \u001b[0;36mbackward\u001b[1;34m(tensors, grad_tensors, retain_graph, create_graph, grad_variables)\u001b[0m\n\u001b[0;32m    128\u001b[0m         \u001b[0mretain_graph\u001b[0m \u001b[1;33m=\u001b[0m \u001b[0mcreate_graph\u001b[0m\u001b[1;33m\u001b[0m\u001b[1;33m\u001b[0m\u001b[0m\n\u001b[0;32m    129\u001b[0m \u001b[1;33m\u001b[0m\u001b[0m\n\u001b[1;32m--> 130\u001b[1;33m     Variable._execution_engine.run_backward(\n\u001b[0m\u001b[0;32m    131\u001b[0m         \u001b[0mtensors\u001b[0m\u001b[1;33m,\u001b[0m \u001b[0mgrad_tensors_\u001b[0m\u001b[1;33m,\u001b[0m \u001b[0mretain_graph\u001b[0m\u001b[1;33m,\u001b[0m \u001b[0mcreate_graph\u001b[0m\u001b[1;33m,\u001b[0m\u001b[1;33m\u001b[0m\u001b[1;33m\u001b[0m\u001b[0m\n\u001b[0;32m    132\u001b[0m         allow_unreachable=True)  # allow_unreachable flag\n",
      "\u001b[1;31mKeyboardInterrupt\u001b[0m: "
     ]
    }
   ],
   "source": [
    "hparams = {\n",
    "    'batch_size': 8,\n",
    "    'learning_rate': 1e-2,\n",
    "    'epochs': 1\n",
    "}\n",
    "\n",
    "model = ResNet(hparams=hparams)\n",
    "\n",
    "repo_root = os.path.abspath(os.getcwd())\n",
    "data_root = os.path.join(repo_root, \"data\")\n",
    "seed = 69\n",
    "split = 0.7\n",
    "\n",
    "#CNN_model = torch.load(path)\n",
    "#CNN_model = nn.Sequential(*(list(CNN_model.children())[:-2]))\n",
    "#for param in CNN_model.parameters():\n",
    "#    param.requires_grad = False\n",
    "transforms = [RescaleTransform(), ReshapeToTensor(), Patches(patch_size=16), Resize()]#, PassThroughCNN(CNN_model)]\n",
    "\n",
    "train = Cifar100(root=data_root, purpose='train', seed=seed, split=split, transform=transforms)\n",
    "val = Cifar100(root=data_root, purpose='val', seed=seed, split=split, transform=transforms)\n",
    "test = Cifar100(root=data_root, purpose='test', seed=seed, split=split, transform=transforms)\n",
    "\n",
    "train_loader = DataGenerator(train, batch_size=model.hparams['batch_size'])\n",
    "val_loader = DataGenerator(val, batch_size=model.hparams['batch_size'])\n",
    "\n",
    "criterion = torch.nn.CrossEntropyLoss()\n",
    "#remember to one hot encode labels!\n",
    "\n",
    "optimizer = optim.AdamW(list(model.feature_extractor.parameters())+list(model.AdAvgP.parameters())+list(model.FC.parameters()), lr=model.hparams[\"learning_rate\"])\n",
    "\n",
    "train_loss_history = [] # loss\n",
    "train_acc_history = [] # accuracy\n",
    "\n",
    "\n",
    "for epoch in range(hparams['epochs']):\n",
    "     \n",
    "    running_loss = 0.0\n",
    " \n",
    "    # Iterating through the minibatches of the data\n",
    "    for i, batch in enumerate(train_loader):\n",
    "        \n",
    "        image, labels = batch['image'], batch['label']\n",
    "\n",
    "        labels = torch.tensor(labels, dtype=torch.long)\n",
    "\n",
    "        #labels_onehot = np.zeros((labels.size, model.num_classes))\n",
    "        #labels_onehot[np.arange(labels.size), labels] = 1\n",
    "        #labels_onehot = torch.tensor(labels_onehot)\n",
    "\n",
    "        #image = image.to(device)\n",
    "        #labels = labels.to(device)\n",
    " \n",
    "        optimizer.zero_grad()              # Reset the parameter gradients  for the current  minibatch iteration\n",
    "        predictions = model.forward(torch.tensor(image, dtype=torch.float32))         # Perform a forward pass on the network with inputs\n",
    "\n",
    "        loss = criterion(predictions, labels) # calculate the loss with the network predictions and ground Truth\n",
    "        loss.backward()             # Perform a backward pass to calculate the gradients\n",
    "        optimizer.step()            # Optimize the network parameters with calculated gradients\n",
    "\n",
    "        \n",
    "        # Accumulate the loss and calculate the accuracy of predictions\n",
    "        running_loss += loss.item()\n",
    "\n",
    "        # Print statistics to console\n",
    "        if i % 1 == 0: # print every 10 mini-batches\n",
    "            running_loss /= 1\n",
    "            print(\"[Epoch %d, Iteration %5d] loss: %.5f\" % (epoch+1, i+1, running_loss))\n",
    "            train_loss_history.append(running_loss)\n",
    "            running_loss = 0.0\n",
    "\n",
    "print('FINISH.')"
   ]
  },
  {
   "cell_type": "code",
   "execution_count": 8,
   "metadata": {},
   "outputs": [
    {
     "name": "stdout",
     "output_type": "stream",
     "text": [
      "Saving model... e:\\!LMU\\PythonProjects\\cv_attention\\trained_models\\dummy_resnet.model\n"
     ]
    }
   ],
   "source": [
    "os.makedirs('trained_models', exist_ok=True)\n",
    "model.save(os.path.join(repo_root, \"trained_models\\dummy_resnet.model\"))"
   ]
  },
  {
   "cell_type": "code",
   "execution_count": 26,
   "metadata": {},
   "outputs": [
    {
     "data": {
      "text/plain": [
       "{'image': array([[[[0.03529412, 0.04313725, 0.05098039, ..., 0.04705882,\n",
       "           0.04705882, 0.04705882],\n",
       "          [0.03529412, 0.04313725, 0.04705882, ..., 0.04313725,\n",
       "           0.05098039, 0.05882353],\n",
       "          [0.03137255, 0.03921569, 0.04705882, ..., 0.0627451 ,\n",
       "           0.06666667, 0.06666667],\n",
       "          ...,\n",
       "          [0.43529412, 0.56078431, 0.63137255, ..., 0.42352941,\n",
       "           0.61960784, 0.69411765],\n",
       "          [0.49019608, 0.54509804, 0.54901961, ..., 0.46666667,\n",
       "           0.54509804, 0.50588235],\n",
       "          [0.47843137, 0.44705882, 0.54509804, ..., 0.49019608,\n",
       "           0.5372549 , 0.42745098]],\n",
       " \n",
       "         [[0.1254902 , 0.13333333, 0.14117647, ..., 0.16862745,\n",
       "           0.16862745, 0.16862745],\n",
       "          [0.1372549 , 0.14509804, 0.14901961, ..., 0.18039216,\n",
       "           0.17647059, 0.17647059],\n",
       "          [0.14901961, 0.15686275, 0.16470588, ..., 0.19607843,\n",
       "           0.19215686, 0.18823529],\n",
       "          ...,\n",
       "          [0.41960784, 0.56078431, 0.6       , ..., 0.41568627,\n",
       "           0.61176471, 0.68235294],\n",
       "          [0.45490196, 0.51764706, 0.50980392, ..., 0.45098039,\n",
       "           0.5254902 , 0.48627451],\n",
       "          [0.44313725, 0.41568627, 0.50980392, ..., 0.46666667,\n",
       "           0.50980392, 0.39607843]],\n",
       " \n",
       "         [[0.2745098 , 0.27843137, 0.28627451, ..., 0.31372549,\n",
       "           0.31372549, 0.31372549],\n",
       "          [0.28627451, 0.29019608, 0.29411765, ..., 0.33333333,\n",
       "           0.3254902 , 0.31764706],\n",
       "          [0.30196078, 0.30588235, 0.31372549, ..., 0.34509804,\n",
       "           0.34117647, 0.33333333],\n",
       "          ...,\n",
       "          [0.36862745, 0.52156863, 0.5372549 , ..., 0.38823529,\n",
       "           0.59215686, 0.6745098 ],\n",
       "          [0.39215686, 0.45882353, 0.44313725, ..., 0.41960784,\n",
       "           0.50588235, 0.4745098 ],\n",
       "          [0.38431373, 0.35294118, 0.44705882, ..., 0.43137255,\n",
       "           0.48627451, 0.38431373]]],\n",
       " \n",
       " \n",
       "        [[[0.04705882, 0.05098039, 0.05490196, ..., 0.05882353,\n",
       "           0.05882353, 0.05098039],\n",
       "          [0.05490196, 0.05490196, 0.05882353, ..., 0.04705882,\n",
       "           0.05098039, 0.04705882],\n",
       "          [0.0627451 , 0.0627451 , 0.06666667, ..., 0.05098039,\n",
       "           0.04705882, 0.04313725],\n",
       "          ...,\n",
       "          [0.76078431, 0.82745098, 0.84313725, ..., 0.69803922,\n",
       "           0.63921569, 0.48627451],\n",
       "          [0.6627451 , 0.81568627, 0.83921569, ..., 0.78431373,\n",
       "           0.78039216, 0.74901961],\n",
       "          [0.6745098 , 0.80392157, 0.83137255, ..., 0.75686275,\n",
       "           0.76078431, 0.75294118]],\n",
       " \n",
       "         [[0.17254902, 0.18039216, 0.18431373, ..., 0.16078431,\n",
       "           0.16078431, 0.15294118],\n",
       "          [0.18039216, 0.18431373, 0.18823529, ..., 0.16470588,\n",
       "           0.16470588, 0.16078431],\n",
       "          [0.18823529, 0.18823529, 0.19215686, ..., 0.17647059,\n",
       "           0.17254902, 0.16862745],\n",
       "          ...,\n",
       "          [0.72941176, 0.79215686, 0.80784314, ..., 0.69803922,\n",
       "           0.6627451 , 0.5372549 ],\n",
       "          [0.62745098, 0.78039216, 0.80392157, ..., 0.76470588,\n",
       "           0.76862745, 0.74901961],\n",
       "          [0.63921569, 0.76862745, 0.79607843, ..., 0.74901961,\n",
       "           0.75294118, 0.74117647]],\n",
       " \n",
       "         [[0.30980392, 0.31372549, 0.31764706, ..., 0.30196078,\n",
       "           0.30196078, 0.29411765],\n",
       "          [0.31764706, 0.32156863, 0.3254902 , ..., 0.30588235,\n",
       "           0.30588235, 0.30588235],\n",
       "          [0.3372549 , 0.3372549 , 0.34117647, ..., 0.32156863,\n",
       "           0.31764706, 0.31372549],\n",
       "          ...,\n",
       "          [0.73333333, 0.79607843, 0.81176471, ..., 0.6745098 ,\n",
       "           0.65882353, 0.57254902],\n",
       "          [0.63137255, 0.78431373, 0.80784314, ..., 0.74901961,\n",
       "           0.76862745, 0.77254902],\n",
       "          [0.63921569, 0.77254902, 0.8       , ..., 0.76470588,\n",
       "           0.77254902, 0.77647059]]],\n",
       " \n",
       " \n",
       "        [[[0.4627451 , 0.46666667, 0.55294118, ..., 0.43137255,\n",
       "           0.49019608, 0.43137255],\n",
       "          [0.43921569, 0.50980392, 0.51764706, ..., 0.43137255,\n",
       "           0.50980392, 0.50196078],\n",
       "          [0.4627451 , 0.52941176, 0.50588235, ..., 0.43921569,\n",
       "           0.45490196, 0.48235294],\n",
       "          ...,\n",
       "          [0.45882353, 0.56862745, 0.82745098, ..., 0.49019608,\n",
       "           0.49411765, 0.69803922],\n",
       "          [0.63921569, 0.78431373, 0.89803922, ..., 0.50588235,\n",
       "           0.62745098, 0.82352941],\n",
       "          [0.85882353, 0.89411765, 0.87843137, ..., 0.69803922,\n",
       "           0.79215686, 0.83529412]],\n",
       " \n",
       "         [[0.43529412, 0.43921569, 0.52941176, ..., 0.40392157,\n",
       "           0.4627451 , 0.40392157],\n",
       "          [0.42352941, 0.48627451, 0.49019608, ..., 0.40392157,\n",
       "           0.49019608, 0.48235294],\n",
       "          [0.45098039, 0.50980392, 0.4745098 , ..., 0.41568627,\n",
       "           0.43921569, 0.47058824],\n",
       "          ...,\n",
       "          [0.45882353, 0.56078431, 0.81176471, ..., 0.47058824,\n",
       "           0.48235294, 0.68627451],\n",
       "          [0.64313725, 0.77254902, 0.8745098 , ..., 0.49411765,\n",
       "           0.61176471, 0.80784314],\n",
       "          [0.85882353, 0.87843137, 0.85490196, ..., 0.68235294,\n",
       "           0.77647059, 0.81960784]],\n",
       " \n",
       "         [[0.38039216, 0.38039216, 0.47843137, ..., 0.36470588,\n",
       "           0.43137255, 0.38431373],\n",
       "          [0.36078431, 0.42352941, 0.43529412, ..., 0.36078431,\n",
       "           0.45490196, 0.45490196],\n",
       "          [0.38431373, 0.44313725, 0.41176471, ..., 0.36862745,\n",
       "           0.39607843, 0.43529412],\n",
       "          ...,\n",
       "          [0.38823529, 0.49411765, 0.74901961, ..., 0.41176471,\n",
       "           0.42745098, 0.63921569],\n",
       "          [0.58039216, 0.71764706, 0.82352941, ..., 0.43137255,\n",
       "           0.56470588, 0.77254902],\n",
       "          [0.80392157, 0.83137255, 0.80784314, ..., 0.62352941,\n",
       "           0.72941176, 0.77647059]]],\n",
       " \n",
       " \n",
       "        [[[0.49803922, 0.68627451, 0.83529412, ..., 0.7372549 ,\n",
       "           0.7372549 , 0.74117647],\n",
       "          [0.39215686, 0.60392157, 0.81960784, ..., 0.74117647,\n",
       "           0.73333333, 0.7254902 ],\n",
       "          [0.41568627, 0.6       , 0.75686275, ..., 0.74901961,\n",
       "           0.72941176, 0.71764706],\n",
       "          ...,\n",
       "          [0.85490196, 0.85490196, 0.85098039, ..., 0.6745098 ,\n",
       "           0.68627451, 0.69411765],\n",
       "          [0.84705882, 0.84313725, 0.81960784, ..., 0.55294118,\n",
       "           0.55686275, 0.57647059],\n",
       "          [0.80784314, 0.77254902, 0.73333333, ..., 0.50588235,\n",
       "           0.50980392, 0.51372549]],\n",
       " \n",
       "         [[0.46666667, 0.65098039, 0.8       , ..., 0.74901961,\n",
       "           0.74509804, 0.74117647],\n",
       "          [0.37254902, 0.58039216, 0.79607843, ..., 0.7372549 ,\n",
       "           0.73333333, 0.72941176],\n",
       "          [0.40392157, 0.58431373, 0.7372549 , ..., 0.72941176,\n",
       "           0.72156863, 0.71764706],\n",
       "          ...,\n",
       "          [0.83529412, 0.83137255, 0.82745098, ..., 0.68627451,\n",
       "           0.69803922, 0.70588235],\n",
       "          [0.82745098, 0.82352941, 0.8       , ..., 0.57647059,\n",
       "           0.58039216, 0.6       ],\n",
       "          [0.79215686, 0.75686275, 0.71764706, ..., 0.54117647,\n",
       "           0.54509804, 0.54901961]],\n",
       " \n",
       "         [[0.4627451 , 0.65490196, 0.8       , ..., 0.76470588,\n",
       "           0.76078431, 0.76078431],\n",
       "          [0.34509804, 0.56078431, 0.78431373, ..., 0.76078431,\n",
       "           0.75686275, 0.74509804],\n",
       "          [0.36470588, 0.54901961, 0.72156863, ..., 0.74901961,\n",
       "           0.74509804, 0.7372549 ],\n",
       "          ...,\n",
       "          [0.79607843, 0.8       , 0.80392157, ..., 0.68627451,\n",
       "           0.69803922, 0.70588235],\n",
       "          [0.8       , 0.8       , 0.77647059, ..., 0.57647059,\n",
       "           0.58039216, 0.6       ],\n",
       "          [0.75294118, 0.71764706, 0.67843137, ..., 0.5372549 ,\n",
       "           0.54117647, 0.54509804]]]]),\n",
       " 'label': array([10, 10, 10, 10])}"
      ]
     },
     "execution_count": 26,
     "metadata": {},
     "output_type": "execute_result"
    }
   ],
   "source": [
    "train[1]"
   ]
  },
  {
   "cell_type": "code",
   "execution_count": 6,
   "metadata": {},
   "outputs": [
    {
     "data": {
      "text/plain": [
       "{'image': array([[[[0.01486332, 0.01479185, 0.01477216, ..., 0.28798445,\n",
       "           0.28789722, 0.28758074],\n",
       "          [0.01485992, 0.01478815, 0.01476838, ..., 0.28608984,\n",
       "           0.28600237, 0.285685  ],\n",
       "          [0.01485898, 0.01478713, 0.01476734, ..., 0.28556789,\n",
       "           0.28548035, 0.28516273],\n",
       "          ...,\n",
       "          [0.02697161, 0.02689218, 0.02687029, ..., 0.77027991,\n",
       "           0.77036542, 0.77067567],\n",
       "          [0.02695661, 0.02687668, 0.02685466, ..., 0.76925862,\n",
       "           0.76934532, 0.76965989],\n",
       "          [0.02690217, 0.02682047, 0.02679797, ..., 0.76555319,\n",
       "           0.76564421, 0.76597443]],\n",
       " \n",
       "         [[0.00392157, 0.00388753, 0.00387816, ..., 0.18784248,\n",
       "           0.18778339, 0.187569  ],\n",
       "          [0.0039556 , 0.00392157, 0.00391219, ..., 0.18758154,\n",
       "           0.1875222 , 0.18730693],\n",
       "          [0.00396498, 0.00393095, 0.00392157, ..., 0.18750965,\n",
       "           0.18745025, 0.18723473],\n",
       "          ...,\n",
       "          [0.01564277, 0.01563899, 0.01563795, ..., 0.71024709,\n",
       "           0.71031176, 0.7105464 ],\n",
       "          [0.01564371, 0.01564001, 0.015639  , ..., 0.70927062,\n",
       "           0.70933653, 0.70957564],\n",
       "          [0.01564711, 0.01564371, 0.01564277, ..., 0.70572779,\n",
       "           0.70579818, 0.70605353]],\n",
       " \n",
       "         [[0.00309861, 0.00302714, 0.00300745, ..., 0.07368168,\n",
       "           0.07363197, 0.07345161],\n",
       "          [0.00309521, 0.00302345, 0.00300367, ..., 0.07342074,\n",
       "           0.07337078, 0.07318954],\n",
       "          [0.00309427, 0.00302243, 0.00300263, ..., 0.07334885,\n",
       "           0.07329883, 0.07311734],\n",
       "          ...,\n",
       "          [0.03206943, 0.03216775, 0.03219484, ..., 0.68051914,\n",
       "           0.68053899, 0.68061103],\n",
       "          [0.03207974, 0.03217815, 0.03220526, ..., 0.67955413,\n",
       "           0.67957517, 0.67965152],\n",
       "          [0.03211718, 0.03221588, 0.03224307, ..., 0.67605289,\n",
       "           0.67607824, 0.67617025]]],\n",
       " \n",
       " \n",
       "        [[[0.31330982, 0.31327236, 0.31326204, ..., 0.23379005,\n",
       "           0.23345896, 0.23225771],\n",
       "          [0.31129834, 0.31126354, 0.31125396, ..., 0.23479588,\n",
       "           0.23446292, 0.23325488],\n",
       "          [0.31074419, 0.31071013, 0.31070074, ..., 0.23507298,\n",
       "           0.23473951, 0.23352959],\n",
       "          ...,\n",
       "          [0.76012286, 0.7606749 , 0.76082699, ..., 0.04749413,\n",
       "           0.04748475, 0.04745072],\n",
       "          [0.75907235, 0.75962277, 0.7597744 , ..., 0.04749413,\n",
       "           0.04748475, 0.04745072],\n",
       "          [0.7552609 , 0.75580541, 0.75595542, ..., 0.04749413,\n",
       "           0.04748475, 0.04745072]],\n",
       " \n",
       "         [[0.20776716, 0.20779437, 0.20780186, ..., 0.17422958,\n",
       "           0.17393976, 0.17288824],\n",
       "          [0.20741998, 0.20744956, 0.2074577 , ..., 0.17498205,\n",
       "           0.17469069, 0.17363355],\n",
       "          [0.20732434, 0.20735456, 0.20736289, ..., 0.17518936,\n",
       "           0.17489756, 0.17383888],\n",
       "          ...,\n",
       "          [0.7161149 , 0.71662913, 0.7167708 , ..., 0.03180786,\n",
       "           0.03179848, 0.03176445],\n",
       "          [0.7150747 , 0.71558739, 0.71572863, ..., 0.03180786,\n",
       "           0.03179848, 0.03176445],\n",
       "          [0.71130069, 0.71180776, 0.71194746, ..., 0.03180786,\n",
       "           0.03179848, 0.03176445]],\n",
       " \n",
       "         [[0.08780528, 0.08793799, 0.08797456, ..., 0.17462156,\n",
       "           0.17434019, 0.17331929],\n",
       "          [0.08749554, 0.08763091, 0.08766821, ..., 0.17544589,\n",
       "           0.17516288, 0.17413608],\n",
       "          [0.08741021, 0.08754632, 0.08758381, ..., 0.17567298,\n",
       "           0.17538953, 0.1743611 ],\n",
       "          ...,\n",
       "          [0.69485273, 0.69533671, 0.69547004, ..., 0.02004315,\n",
       "           0.02003377, 0.01999974],\n",
       "          [0.69383974, 0.69432209, 0.69445498, ..., 0.02004315,\n",
       "           0.02003377, 0.01999974],\n",
       "          [0.69016442, 0.69064086, 0.69077212, ..., 0.02004315,\n",
       "           0.02003377, 0.01999974]]],\n",
       " \n",
       " \n",
       "        [[[0.02694159, 0.02696542, 0.02697199, ..., 0.70931093,\n",
       "           0.70965049, 0.71088246],\n",
       "          [0.02686332, 0.02688627, 0.02689259, ..., 0.71308872,\n",
       "           0.71342681, 0.71465346],\n",
       "          [0.02684176, 0.02686446, 0.02687071, ..., 0.71412948,\n",
       "           0.71446717, 0.71569236],\n",
       "          ...,\n",
       "          [0.52966499, 0.52858734, 0.52829046, ..., 0.01254205,\n",
       "           0.01253476, 0.01250832],\n",
       "          [0.53026808, 0.52919312, 0.52889697, ..., 0.0126098 ,\n",
       "           0.01260267, 0.0125768 ],\n",
       "          [0.53245621, 0.531391  , 0.53109754, ..., 0.01285561,\n",
       "           0.01284905, 0.01282524]],\n",
       " \n",
       "         [[0.01533354, 0.01530291, 0.01529447, ..., 0.61649319,\n",
       "           0.61672862, 0.61758283],\n",
       "          [0.01533694, 0.01530661, 0.01529825, ..., 0.62061136,\n",
       "           0.62084606, 0.6216976 ],\n",
       "          [0.01533788, 0.01530762, 0.01529929, ..., 0.62174589,\n",
       "           0.62198039, 0.6228312 ],\n",
       "          ...,\n",
       "          [0.37328069, 0.37205558, 0.37171806, ..., 0.0167985 ,\n",
       "           0.01678391, 0.01673099],\n",
       "          [0.3738397 , 0.37261751, 0.3722808 , ..., 0.01678391,\n",
       "           0.01676944, 0.01671692],\n",
       "          [0.37586788, 0.37465632, 0.37432255, ..., 0.01673099,\n",
       "           0.01671692, 0.01666589]],\n",
       " \n",
       "         [[0.01804026, 0.01804026, 0.01804026, ..., 0.5723076 ,\n",
       "           0.57248957, 0.57314979],\n",
       "          [0.01790412, 0.01790412, 0.01790412, ..., 0.57644847,\n",
       "           0.57662995, 0.5772884 ],\n",
       "          [0.01786661, 0.01786661, 0.01786661, ..., 0.57758926,\n",
       "           0.57777061, 0.57842857],\n",
       "          ...,\n",
       "          [0.35018686, 0.34907518, 0.34876892, ..., 0.04424568,\n",
       "           0.04421234, 0.04409136],\n",
       "          [0.35076181, 0.34965282, 0.3493473 , ..., 0.04416544,\n",
       "           0.04413221, 0.04401163],\n",
       "          [0.35284785, 0.3517486 , 0.35144577, ..., 0.0438743 ,\n",
       "           0.04384148, 0.04372238]]],\n",
       " \n",
       " \n",
       "        ...,\n",
       " \n",
       " \n",
       "        [[[0.49599854, 0.49592365, 0.49590301, ..., 0.46204568,\n",
       "           0.46206914, 0.46215425],\n",
       "          [0.49626399, 0.49619146, 0.49617148, ..., 0.46247673,\n",
       "           0.46249897, 0.46257965],\n",
       "          [0.49633712, 0.49626524, 0.49624544, ..., 0.46259549,\n",
       "           0.46261739, 0.46269685],\n",
       "          ...,\n",
       "          [0.39970119, 0.39888068, 0.39865463, ..., 0.6192578 ,\n",
       "           0.61867418, 0.61655668],\n",
       "          [0.3996993 , 0.39888106, 0.39865565, ..., 0.61959338,\n",
       "           0.61900981, 0.61689248],\n",
       "          [0.39969243, 0.39888247, 0.39865932, ..., 0.62081095,\n",
       "           0.62022754, 0.6181108 ]],\n",
       " \n",
       "         [[0.54219524, 0.54211355, 0.54209104, ..., 0.4892361 ,\n",
       "           0.48930739, 0.48956606],\n",
       "          [0.54238582, 0.5423059 , 0.54228388, ..., 0.48983355,\n",
       "           0.4899037 , 0.49015823],\n",
       "          [0.54243833, 0.54235889, 0.54233701, ..., 0.48999814,\n",
       "           0.49006798, 0.49032137],\n",
       "          ...,\n",
       "          [0.38013694, 0.37935802, 0.37914343, ..., 0.59321318,\n",
       "           0.59268375, 0.59076289],\n",
       "          [0.38014255, 0.37936575, 0.37915174, ..., 0.59354668,\n",
       "           0.59301734, 0.59109681],\n",
       "          [0.38016291, 0.37939379, 0.37918189, ..., 0.59475669,\n",
       "           0.59422768, 0.59230833]],\n",
       " \n",
       "         [[0.21874286, 0.218702  , 0.21869074, ..., 0.1576031 ,\n",
       "           0.15763782, 0.15776376],\n",
       "          [0.21907638, 0.21903788, 0.21902728, ..., 0.15785643,\n",
       "           0.15789008, 0.15801219],\n",
       "          [0.21916826, 0.21913042, 0.21911999, ..., 0.15792622,\n",
       "           0.15795958, 0.15808063],\n",
       "          ...,\n",
       "          [0.30205396, 0.3013053 , 0.30109904, ..., 0.48001247,\n",
       "           0.47952785, 0.47776956],\n",
       "          [0.30206051, 0.30131404, 0.3011084 , ..., 0.48012815,\n",
       "           0.47964346, 0.47788493],\n",
       "          [0.30208427, 0.30134578, 0.30114233, ..., 0.48054786,\n",
       "           0.48006293, 0.47830351]]],\n",
       " \n",
       " \n",
       "        [[[0.4313702 , 0.43167654, 0.43176093, ..., 0.42008775,\n",
       "           0.42015341, 0.42039163],\n",
       "          [0.43137022, 0.43167361, 0.43175719, ..., 0.42039406,\n",
       "           0.42045972, 0.42069794],\n",
       "          [0.43137023, 0.4316728 , 0.43175615, ..., 0.42047845,\n",
       "           0.42054411, 0.42078233],\n",
       "          ...,\n",
       "          [0.91659927, 0.91684885, 0.9169176 , ..., 0.76901781,\n",
       "           0.76916894, 0.76971725],\n",
       "          [0.91659646, 0.91684579, 0.91691448, ..., 0.76893444,\n",
       "           0.76908575, 0.76963471],\n",
       "          [0.91658625, 0.9168347 , 0.91690315, ..., 0.76863197,\n",
       "           0.76878393, 0.76933525]],\n",
       " \n",
       "         [[0.41486097, 0.41516391, 0.41524736, ..., 0.4000446 ,\n",
       "           0.40011964, 0.40039188],\n",
       "          [0.41478952, 0.41508921, 0.41517177, ..., 0.40035091,\n",
       "           0.40042595, 0.4006982 ],\n",
       "          [0.41476984, 0.41506863, 0.41515094, ..., 0.4004353 ,\n",
       "           0.40051034, 0.40078258],\n",
       "          ...,\n",
       "          [0.84614154, 0.84640245, 0.84647433, ..., 0.70680466,\n",
       "           0.70694433, 0.70745105],\n",
       "          [0.84613591, 0.84639634, 0.84646808, ..., 0.70671921,\n",
       "           0.7068591 , 0.70736664],\n",
       "          [0.84611551, 0.84637416, 0.84644542, ..., 0.70640919,\n",
       "           0.70654989, 0.70706038]],\n",
       " \n",
       "         [[0.37654657, 0.37689374, 0.37698938, ..., 0.32588319,\n",
       "           0.32595916, 0.32623481],\n",
       "          [0.37651936, 0.37686417, 0.37695916, ..., 0.32621976,\n",
       "           0.32629581, 0.32657176],\n",
       "          [0.37651186, 0.37685602, 0.37695083, ..., 0.32631248,\n",
       "           0.32638856, 0.32666459],\n",
       "          ...,\n",
       "          [0.72287148, 0.72317398, 0.72325732, ..., 0.57303602,\n",
       "           0.57317568, 0.57368241],\n",
       "          [0.72282646, 0.72312831, 0.72321147, ..., 0.57295995,\n",
       "           0.57309984, 0.57360738],\n",
       "          [0.72266313, 0.72296261, 0.72304512, ..., 0.57268396,\n",
       "           0.57282466, 0.57333515]]],\n",
       " \n",
       " \n",
       "        [[[0.35495103, 0.35383136, 0.35352289, ..., 0.4883936 ,\n",
       "           0.487934  , 0.48626649],\n",
       "          [0.35478433, 0.35365609, 0.35334526, ..., 0.48778472,\n",
       "           0.48732431, 0.48565385],\n",
       "          [0.3547384 , 0.3536078 , 0.35329632, ..., 0.48761698,\n",
       "           0.48715634, 0.48548507],\n",
       "          ...,\n",
       "          [0.75765093, 0.7568492 , 0.75662833, ..., 0.86811755,\n",
       "           0.86802063, 0.86766899],\n",
       "          [0.75760028, 0.75679823, 0.75657727, ..., 0.86818009,\n",
       "           0.86808324, 0.86773183],\n",
       "          [0.75741652, 0.75661329, 0.756392  , ..., 0.86840697,\n",
       "           0.86831037, 0.86795985]],\n",
       " \n",
       "         [[0.33620531, 0.33512647, 0.33482925, ..., 0.45728271,\n",
       "           0.45685125, 0.45528584],\n",
       "          [0.33607944, 0.33499263, 0.33469321, ..., 0.45680997,\n",
       "           0.4563777 , 0.45480933],\n",
       "          [0.33604477, 0.33495575, 0.33465574, ..., 0.45667973,\n",
       "           0.45624723, 0.45467805],\n",
       "          ...,\n",
       "          [0.69538473, 0.6946246 , 0.69441518, ..., 0.79627171,\n",
       "           0.79620189, 0.79594856],\n",
       "          [0.6953322 , 0.69457159, 0.69436204, ..., 0.79633321,\n",
       "           0.79626347, 0.79601047],\n",
       "          [0.69514164, 0.69437925, 0.69416922, ..., 0.79655632,\n",
       "           0.79648691, 0.79623509]],\n",
       " \n",
       "         [[0.26212656, 0.26108516, 0.26079826, ..., 0.38098927,\n",
       "           0.38067224, 0.379522  ],\n",
       "          [0.2620041 , 0.26095502, 0.260666  , ..., 0.38081528,\n",
       "           0.3804976 , 0.379345  ],\n",
       "          [0.26197036, 0.26091916, 0.26062956, ..., 0.38076735,\n",
       "           0.38044949, 0.37929624],\n",
       "          ...,\n",
       "          [0.56118069, 0.56038274, 0.56016291, ..., 0.62285208,\n",
       "           0.62278226, 0.62252893],\n",
       "          [0.56113848, 0.56034013, 0.56012019, ..., 0.62293233,\n",
       "           0.6228626 , 0.62260959],\n",
       "          [0.56098535, 0.56018553, 0.55996518, ..., 0.6232235 ,\n",
       "           0.62315409, 0.62290227]]]]),\n",
       " 'label': array([ 8,  8,  8,  8, 15, 15, 15, 15, 11, 11, 11, 11,  5,  5,  5,  5, 17,\n",
       "        17, 17, 17,  2,  2,  2,  2, 16, 16, 16, 16, 15, 15, 15, 15])}"
      ]
     },
     "execution_count": 6,
     "metadata": {},
     "output_type": "execute_result"
    }
   ],
   "source": [
    "example_batch = next(iter(train_loader))\n",
    "example_batch\n",
    "#example_img = example_batch['image'][0][1]\n",
    "#plt.imshow(example_img)"
   ]
  },
  {
   "cell_type": "code",
   "execution_count": 74,
   "metadata": {},
   "outputs": [
    {
     "data": {
      "text/plain": [
       "(32,)"
      ]
     },
     "execution_count": 74,
     "metadata": {},
     "output_type": "execute_result"
    }
   ],
   "source": [
    "example_batch['label'].shape"
   ]
  },
  {
   "cell_type": "code",
   "execution_count": 6,
   "metadata": {},
   "outputs": [],
   "source": [
    "def img_to_patch(x, patch_size, flatten_channels=True):\n",
    "    \"\"\"\n",
    "    Inputs:\n",
    "        x - torch.Tensor representing the image of shape [B, C, H, W]\n",
    "        patch_size - Number of pixels per dimension of the patches (integer)\n",
    "        flatten_channels - If True, the patches will be returned in a flattened format\n",
    "                           as a feature vector instead of a image grid.\n",
    "    \"\"\"\n",
    "\n",
    "    x = x[None, :]\n",
    "    x = torch.tensor(x)\n",
    "    B, H, W, C = x.shape\n",
    "    x = x.reshape(B, H//patch_size, patch_size, W//patch_size, patch_size, C)\n",
    "    x = x.permute(0, 1, 3, 5, 2, 4) # [B, H', W', C, p_H, p_W]\n",
    "    x = x.flatten(1,2)              # [B, H'*W', C, p_H, p_W]\n",
    "    '''\n",
    "    B, C, H, W = x.shape\n",
    "    x = x.reshape(B, C, H//patch_size, patch_size, W//patch_size, patch_size)\n",
    "    x = x.permute(0, 2, 4, 1, 3, 5) # [B, H', W', C, p_H, p_W]\n",
    "    x = x.flatten(1,2)              # [B, H'*W', C, p_H, p_W]\n",
    "    '''\n",
    "    if flatten_channels:\n",
    "        x = x.flatten(2,4)          # [B, H'*W', C*p_H*p_W]\n",
    "    return x"
   ]
  },
  {
   "cell_type": "code",
   "execution_count": 11,
   "metadata": {},
   "outputs": [
    {
     "data": {
      "text/plain": [
       "<matplotlib.image.AxesImage at 0x218cf6514c0>"
      ]
     },
     "execution_count": 11,
     "metadata": {},
     "output_type": "execute_result"
    },
    {
     "data": {
      "image/png": "[encoded data removed]",
      "text/plain": [
       "<Figure size 432x288 with 1 Axes>"
      ]
     },
     "metadata": {
      "needs_background": "light"
     },
     "output_type": "display_data"
    }
   ],
   "source": [
    "patches = img_to_patch(example_img, 16, flatten_channels=False)\n",
    "patches.shape\n",
    "plt.imshow(patches.squeeze()[0].permute(1,2,0))"
   ]
  },
  {
   "cell_type": "code",
   "execution_count": 18,
   "metadata": {},
   "outputs": [],
   "source": [
    "patches.squeeze()[0].shape\n",
    "patches2 = patches.squeeze()[0].permute(1,2,0).numpy()"
   ]
  },
  {
   "cell_type": "code",
   "execution_count": 19,
   "metadata": {},
   "outputs": [
    {
     "data": {
      "text/plain": [
       "(16, 16, 3)"
      ]
     },
     "execution_count": 19,
     "metadata": {},
     "output_type": "execute_result"
    }
   ],
   "source": [
    "patches2.shape"
   ]
  },
  {
   "cell_type": "code",
   "execution_count": 20,
   "metadata": {},
   "outputs": [
    {
     "data": {
      "text/plain": [
       "<matplotlib.image.AxesImage at 0x218d06a4b80>"
      ]
     },
     "execution_count": 20,
     "metadata": {},
     "output_type": "execute_result"
    },
    {
     "data": {
      "image/png": "[encoded data removed]",
      "text/plain": [
       "<Figure size 432x288 with 1 Axes>"
      ]
     },
     "metadata": {
      "needs_background": "light"
     },
     "output_type": "display_data"
    }
   ],
   "source": [
    "import cv2\n",
    "newsize = (224, 224)\n",
    "newimage = cv2.resize(patches2, dsize=newsize, interpolation=cv2.INTER_CUBIC)\n",
    "plt.imshow(newimage)"
   ]
  },
  {
   "cell_type": "code",
   "execution_count": 65,
   "metadata": {},
   "outputs": [
    {
     "ename": "NameError",
     "evalue": "name 'train' is not defined",
     "output_type": "error",
     "traceback": [
      "\u001b[1;31m---------------------------------------------------------------------------\u001b[0m",
      "\u001b[1;31mNameError\u001b[0m                                 Traceback (most recent call last)",
      "\u001b[1;32m~\\AppData\\Local\\Temp/ipykernel_10632/3206043662.py\u001b[0m in \u001b[0;36m<module>\u001b[1;34m\u001b[0m\n\u001b[1;32m----> 1\u001b[1;33m \u001b[1;32mdel\u001b[0m\u001b[1;33m(\u001b[0m\u001b[0mtrain\u001b[0m\u001b[1;33m)\u001b[0m\u001b[1;33m\u001b[0m\u001b[1;33m\u001b[0m\u001b[0m\n\u001b[0m\u001b[0;32m      2\u001b[0m \u001b[1;32mdel\u001b[0m\u001b[1;33m(\u001b[0m\u001b[0mtest\u001b[0m\u001b[1;33m)\u001b[0m\u001b[1;33m\u001b[0m\u001b[1;33m\u001b[0m\u001b[0m\n\u001b[0;32m      3\u001b[0m \u001b[1;32mdel\u001b[0m\u001b[1;33m(\u001b[0m\u001b[0mval\u001b[0m\u001b[1;33m)\u001b[0m\u001b[1;33m\u001b[0m\u001b[1;33m\u001b[0m\u001b[0m\n",
      "\u001b[1;31mNameError\u001b[0m: name 'train' is not defined"
     ]
    }
   ],
   "source": [
    "del(train)\n",
    "del(test)\n",
    "del(val)"
   ]
  },
  {
   "cell_type": "code",
   "execution_count": 23,
   "metadata": {},
   "outputs": [],
   "source": [
    "    def unpickle(file):\n",
    "        with open(file, 'rb') as fo:\n",
    "            dict = pickle.load(fo, encoding='bytes')\n",
    "        return dict"
   ]
  },
  {
   "cell_type": "code",
   "execution_count": 24,
   "metadata": {},
   "outputs": [],
   "source": [
    "x = unpickle(f'{data_root}\\\\cifar-100-python\\\\train')"
   ]
  },
  {
   "cell_type": "code",
   "execution_count": 28,
   "metadata": {},
   "outputs": [
    {
     "data": {
      "text/plain": [
       "dict_keys([b'filenames', b'batch_label', b'fine_labels', b'coarse_labels', b'data'])"
      ]
     },
     "execution_count": 28,
     "metadata": {},
     "output_type": "execute_result"
    }
   ],
   "source": [
    "x.keys()"
   ]
  },
  {
   "cell_type": "code",
   "execution_count": 24,
   "metadata": {},
   "outputs": [
    {
     "data": {
      "text/plain": [
       "150528"
      ]
     },
     "execution_count": 24,
     "metadata": {},
     "output_type": "execute_result"
    }
   ],
   "source": [
    "224*224*3"
   ]
  },
  {
   "cell_type": "code",
   "execution_count": 3,
   "metadata": {},
   "outputs": [
    {
     "name": "stdout",
     "output_type": "stream",
     "text": [
      "The autoreload extension is already loaded. To reload it, use:\n",
      "  %reload_ext autoreload\n"
     ]
    }
   ],
   "source": [
    "from data_processing.glaucoma import GONRefuge\n",
    "import os\n",
    "from data_processing.transforms import *\n",
    "import matplotlib.pyplot as plt\n",
    "from data_processing.data_generator_approach_2 import DataGeneratorA2\n",
    "\n",
    "%load_ext autoreload\n",
    "%autoreload 2\n",
    "\n",
    "repo_root = os.path.abspath(os.getcwd())\n",
    "data_root = os.path.join(repo_root, \"data\")\n",
    "#train = GONRefuge(root=data_root, purpose='train')#, transform=transforms)\n",
    "patch_num = 8\n",
    "transforms = [RescaleTransform(), Patches_new(patch_num=patch_num), Resize()]\n",
    "batch_size = 4"
   ]
  },
  {
   "cell_type": "code",
   "execution_count": 4,
   "metadata": {},
   "outputs": [],
   "source": [
    "test = GONRefuge(root=data_root, purpose='test', transform=transforms)"
   ]
  },
  {
   "cell_type": "code",
   "execution_count": 36,
   "metadata": {},
   "outputs": [],
   "source": [
    "test_dataloader = DataGeneratorA2(test, batch_size=batch_size, flatten_batch=True)"
   ]
  },
  {
   "cell_type": "code",
   "execution_count": 37,
   "metadata": {},
   "outputs": [],
   "source": [
    "batchtest = next(iter(test_dataloader))"
   ]
  },
  {
   "cell_type": "code",
   "execution_count": 39,
   "metadata": {},
   "outputs": [
    {
     "data": {
      "text/plain": [
       "torch.Size([4, 64])"
      ]
     },
     "execution_count": 39,
     "metadata": {},
     "output_type": "execute_result"
    }
   ],
   "source": [
    "batchtest['label'].shape"
   ]
  },
  {
   "cell_type": "code",
   "execution_count": 6,
   "metadata": {},
   "outputs": [],
   "source": [
    "scaled_up = val[0]['image'][34].transpose(1,2,0)\n",
    "scaled_down = val[1]['image'][25].transpose(1,2,0)"
   ]
  },
  {
   "cell_type": "code",
   "execution_count": 2,
   "metadata": {},
   "outputs": [
    {
     "data": {
      "text/plain": [
       "{'image': array([[[[ 0.00000000e+00,  0.00000000e+00,  0.00000000e+00, ...,\n",
       "            0.00000000e+00,  0.00000000e+00,  0.00000000e+00],\n",
       "          [ 0.00000000e+00,  0.00000000e+00,  0.00000000e+00, ...,\n",
       "            0.00000000e+00,  0.00000000e+00,  0.00000000e+00],\n",
       "          [ 0.00000000e+00,  0.00000000e+00,  0.00000000e+00, ...,\n",
       "            0.00000000e+00,  0.00000000e+00,  0.00000000e+00],\n",
       "          ...,\n",
       "          [ 0.00000000e+00,  0.00000000e+00,  0.00000000e+00, ...,\n",
       "            0.00000000e+00,  0.00000000e+00,  0.00000000e+00],\n",
       "          [ 0.00000000e+00,  0.00000000e+00,  0.00000000e+00, ...,\n",
       "            0.00000000e+00,  0.00000000e+00,  0.00000000e+00],\n",
       "          [ 0.00000000e+00,  0.00000000e+00,  0.00000000e+00, ...,\n",
       "            0.00000000e+00,  0.00000000e+00,  0.00000000e+00]],\n",
       " \n",
       "         [[ 0.00000000e+00,  0.00000000e+00,  0.00000000e+00, ...,\n",
       "            0.00000000e+00,  0.00000000e+00,  0.00000000e+00],\n",
       "          [ 0.00000000e+00,  0.00000000e+00,  0.00000000e+00, ...,\n",
       "            0.00000000e+00,  0.00000000e+00,  0.00000000e+00],\n",
       "          [ 0.00000000e+00,  0.00000000e+00,  0.00000000e+00, ...,\n",
       "            0.00000000e+00,  0.00000000e+00,  0.00000000e+00],\n",
       "          ...,\n",
       "          [ 0.00000000e+00,  0.00000000e+00,  0.00000000e+00, ...,\n",
       "            0.00000000e+00,  0.00000000e+00,  0.00000000e+00],\n",
       "          [ 0.00000000e+00,  0.00000000e+00,  0.00000000e+00, ...,\n",
       "            0.00000000e+00,  0.00000000e+00,  0.00000000e+00],\n",
       "          [ 0.00000000e+00,  0.00000000e+00,  0.00000000e+00, ...,\n",
       "            0.00000000e+00,  0.00000000e+00,  0.00000000e+00]],\n",
       " \n",
       "         [[ 0.00000000e+00,  0.00000000e+00,  0.00000000e+00, ...,\n",
       "            0.00000000e+00,  0.00000000e+00,  0.00000000e+00],\n",
       "          [ 0.00000000e+00,  0.00000000e+00,  0.00000000e+00, ...,\n",
       "            0.00000000e+00,  0.00000000e+00,  0.00000000e+00],\n",
       "          [ 0.00000000e+00,  0.00000000e+00,  0.00000000e+00, ...,\n",
       "            0.00000000e+00,  0.00000000e+00,  0.00000000e+00],\n",
       "          ...,\n",
       "          [ 0.00000000e+00,  0.00000000e+00,  0.00000000e+00, ...,\n",
       "            0.00000000e+00,  0.00000000e+00,  0.00000000e+00],\n",
       "          [ 0.00000000e+00,  0.00000000e+00,  0.00000000e+00, ...,\n",
       "            0.00000000e+00,  0.00000000e+00,  0.00000000e+00],\n",
       "          [ 0.00000000e+00,  0.00000000e+00,  0.00000000e+00, ...,\n",
       "            0.00000000e+00,  0.00000000e+00,  0.00000000e+00]]],\n",
       " \n",
       " \n",
       "        [[[ 0.00000000e+00,  0.00000000e+00,  0.00000000e+00, ...,\n",
       "            0.00000000e+00,  0.00000000e+00,  0.00000000e+00],\n",
       "          [ 0.00000000e+00,  0.00000000e+00,  0.00000000e+00, ...,\n",
       "            0.00000000e+00,  0.00000000e+00,  0.00000000e+00],\n",
       "          [ 0.00000000e+00,  0.00000000e+00,  0.00000000e+00, ...,\n",
       "            0.00000000e+00,  0.00000000e+00,  0.00000000e+00],\n",
       "          ...,\n",
       "          [ 0.00000000e+00,  0.00000000e+00,  0.00000000e+00, ...,\n",
       "            1.94993348e-01,  1.96352122e-01,  2.00436751e-01],\n",
       "          [ 0.00000000e+00,  0.00000000e+00,  0.00000000e+00, ...,\n",
       "            2.01905715e-01,  1.98124395e-01,  1.96011518e-01],\n",
       "          [ 0.00000000e+00,  0.00000000e+00,  0.00000000e+00, ...,\n",
       "            1.89017854e-01,  1.94797311e-01,  2.02912458e-01]],\n",
       " \n",
       "         [[ 0.00000000e+00,  0.00000000e+00,  0.00000000e+00, ...,\n",
       "            0.00000000e+00,  0.00000000e+00,  0.00000000e+00],\n",
       "          [ 0.00000000e+00,  0.00000000e+00,  0.00000000e+00, ...,\n",
       "            0.00000000e+00,  0.00000000e+00,  0.00000000e+00],\n",
       "          [ 0.00000000e+00,  0.00000000e+00,  0.00000000e+00, ...,\n",
       "            0.00000000e+00,  0.00000000e+00,  0.00000000e+00],\n",
       "          ...,\n",
       "          [ 0.00000000e+00,  0.00000000e+00,  0.00000000e+00, ...,\n",
       "            1.81753623e-01,  1.79024702e-01,  1.73514988e-01],\n",
       "          [ 0.00000000e+00,  0.00000000e+00,  0.00000000e+00, ...,\n",
       "            1.88969095e-01,  1.85065887e-01,  1.69441398e-01],\n",
       "          [ 0.00000000e+00,  0.00000000e+00,  0.00000000e+00, ...,\n",
       "            1.82596711e-01,  1.80920640e-01,  1.76316041e-01]],\n",
       " \n",
       "         [[ 0.00000000e+00,  0.00000000e+00,  0.00000000e+00, ...,\n",
       "            0.00000000e+00,  0.00000000e+00,  0.00000000e+00],\n",
       "          [ 0.00000000e+00,  0.00000000e+00,  0.00000000e+00, ...,\n",
       "            0.00000000e+00,  0.00000000e+00,  0.00000000e+00],\n",
       "          [ 0.00000000e+00,  0.00000000e+00,  0.00000000e+00, ...,\n",
       "            0.00000000e+00,  0.00000000e+00,  0.00000000e+00],\n",
       "          ...,\n",
       "          [ 0.00000000e+00,  0.00000000e+00,  0.00000000e+00, ...,\n",
       "            1.48219547e-01,  1.44760915e-01,  1.39444474e-01],\n",
       "          [ 0.00000000e+00,  0.00000000e+00,  0.00000000e+00, ...,\n",
       "            1.62408135e-01,  1.51547151e-01,  1.38727554e-01],\n",
       "          [ 0.00000000e+00,  0.00000000e+00,  0.00000000e+00, ...,\n",
       "            1.50265996e-01,  1.39656718e-01,  1.37226708e-01]]],\n",
       " \n",
       " \n",
       "        [[[ 0.00000000e+00,  0.00000000e+00,  0.00000000e+00, ...,\n",
       "           -8.31844883e-04,  2.19645233e-04,  5.31709096e-04],\n",
       "          [ 0.00000000e+00,  0.00000000e+00,  0.00000000e+00, ...,\n",
       "            3.51897946e-02,  4.97758134e-02,  5.47070989e-02],\n",
       "          [ 0.00000000e+00,  0.00000000e+00,  0.00000000e+00, ...,\n",
       "            2.07953765e-01,  2.08029771e-01,  2.07978123e-01],\n",
       "          ...,\n",
       "          [ 2.03017599e-01,  1.98367626e-01,  1.79900159e-01, ...,\n",
       "            2.36329549e-01,  2.37462447e-01,  2.38332413e-01],\n",
       "          [ 1.99568330e-01,  1.94048883e-01,  1.85667283e-01, ...,\n",
       "            2.44628214e-01,  2.38262992e-01,  2.42117490e-01],\n",
       "          [ 2.00026294e-01,  1.98215427e-01,  1.86704296e-01, ...,\n",
       "            2.51416878e-01,  2.44704557e-01,  2.43091622e-01]],\n",
       " \n",
       "         [[ 0.00000000e+00,  0.00000000e+00,  0.00000000e+00, ...,\n",
       "           -8.23747900e-04,  2.35035669e-04,  5.46493152e-04],\n",
       "          [ 0.00000000e+00,  0.00000000e+00,  0.00000000e+00, ...,\n",
       "            3.47667554e-02,  4.89717167e-02,  5.39346834e-02],\n",
       "          [ 0.00000000e+00,  0.00000000e+00,  0.00000000e+00, ...,\n",
       "            2.05730154e-01,  2.03271234e-01,  2.03604070e-01],\n",
       "          ...,\n",
       "          [ 1.67707683e-01,  1.63771447e-01,  1.47988095e-01, ...,\n",
       "            2.12290208e-01,  2.08100843e-01,  2.12662695e-01],\n",
       "          [ 1.64338790e-01,  1.59373824e-01,  1.50448387e-01, ...,\n",
       "            2.14468882e-01,  2.07180852e-01,  2.13153853e-01],\n",
       "          [ 1.64140016e-01,  1.56602468e-01,  1.51860742e-01, ...,\n",
       "            2.12651422e-01,  2.05956889e-01,  2.04312177e-01]],\n",
       " \n",
       "         [[ 0.00000000e+00,  0.00000000e+00,  0.00000000e+00, ...,\n",
       "            3.23407146e-03,  7.09482631e-03,  1.52414234e-02],\n",
       "          [ 0.00000000e+00,  0.00000000e+00,  0.00000000e+00, ...,\n",
       "            3.35998886e-02,  4.61885175e-02,  5.76625688e-02],\n",
       "          [ 0.00000000e+00,  0.00000000e+00,  0.00000000e+00, ...,\n",
       "            2.00170669e-01,  1.90885397e-01,  1.91509226e-01],\n",
       "          ...,\n",
       "          [ 1.40712401e-01,  1.36554432e-01,  1.23310484e-01, ...,\n",
       "            1.57956269e-01,  1.56086590e-01,  1.58830887e-01],\n",
       "          [ 1.36861300e-01,  1.30994829e-01,  1.24949723e-01, ...,\n",
       "            1.62856578e-01,  1.56057550e-01,  1.60969005e-01],\n",
       "          [ 1.36943003e-01,  1.34152292e-01,  1.31684986e-01, ...,\n",
       "            1.65367483e-01,  1.58664056e-01,  1.57035233e-01]]],\n",
       " \n",
       " \n",
       "        ...,\n",
       " \n",
       " \n",
       "        [[[ 1.83572562e-01,  1.79963402e-01,  1.75033300e-01, ...,\n",
       "            1.29428144e-01,  1.32514628e-01,  1.33603815e-01],\n",
       "          [ 1.74815761e-01,  1.70148106e-01,  1.73898789e-01, ...,\n",
       "            1.31112196e-01,  1.35132959e-01,  1.36707385e-01],\n",
       "          [ 1.68432539e-01,  1.69487886e-01,  1.72205395e-01, ...,\n",
       "            1.30592496e-01,  1.32582239e-01,  1.35699412e-01],\n",
       "          ...,\n",
       "          [ 1.18957742e-01,  1.13201203e-01,  1.18210828e-01, ...,\n",
       "            0.00000000e+00,  0.00000000e+00,  0.00000000e+00],\n",
       "          [ 1.16514504e-01,  1.13915086e-01,  1.19355878e-01, ...,\n",
       "            0.00000000e+00,  0.00000000e+00,  0.00000000e+00],\n",
       "          [ 1.02924907e-01,  1.09602607e-01,  6.08444898e-02, ...,\n",
       "            0.00000000e+00,  0.00000000e+00,  0.00000000e+00]],\n",
       " \n",
       "         [[ 1.75763983e-01,  1.72199191e-01,  1.72450997e-01, ...,\n",
       "            1.21514528e-01,  1.28484896e-01,  1.29003888e-01],\n",
       "          [ 1.67433950e-01,  1.72685010e-01,  1.70412707e-01, ...,\n",
       "            1.14005446e-01,  1.23095445e-01,  1.20289849e-01],\n",
       "          [ 1.63893093e-01,  1.65531770e-01,  1.66619208e-01, ...,\n",
       "            1.09404743e-01,  1.16811859e-01,  1.18851918e-01],\n",
       "          ...,\n",
       "          [ 1.23850878e-01,  1.19080878e-01,  1.26258826e-01, ...,\n",
       "            0.00000000e+00,  0.00000000e+00,  0.00000000e+00],\n",
       "          [ 1.22530674e-01,  1.18260879e-01,  1.24879240e-01, ...,\n",
       "            0.00000000e+00,  0.00000000e+00,  0.00000000e+00],\n",
       "          [ 1.17065027e-01,  1.06971700e-01,  6.06709499e-02, ...,\n",
       "            0.00000000e+00,  0.00000000e+00,  0.00000000e+00]],\n",
       " \n",
       "         [[ 1.25060007e-01,  1.25835609e-01,  1.22687636e-01, ...,\n",
       "            1.02120067e-01,  1.08296219e-01,  1.13242572e-01],\n",
       "          [ 1.17567509e-01,  1.27582096e-01,  1.24739673e-01, ...,\n",
       "            8.70467404e-02,  1.00220007e-01,  1.08333723e-01],\n",
       "          [ 1.17986529e-01,  1.30025542e-01,  1.24932724e-01, ...,\n",
       "            8.87816201e-02,  9.85502638e-02,  1.06728862e-01],\n",
       "          ...,\n",
       "          [ 1.04201534e-01,  1.03628980e-01,  1.13036034e-01, ...,\n",
       "            0.00000000e+00,  0.00000000e+00,  0.00000000e+00],\n",
       "          [ 8.50216375e-02,  9.19434293e-02,  1.03030695e-01, ...,\n",
       "            0.00000000e+00,  0.00000000e+00,  0.00000000e+00],\n",
       "          [ 6.38305956e-02,  7.41656761e-02,  4.71426046e-02, ...,\n",
       "            0.00000000e+00,  0.00000000e+00,  0.00000000e+00]]],\n",
       " \n",
       " \n",
       "        [[[ 1.33225724e-01,  1.31029358e-01,  1.39837799e-01, ...,\n",
       "            0.00000000e+00,  0.00000000e+00,  0.00000000e+00],\n",
       "          [ 1.37427260e-01,  1.36668556e-01,  1.40512199e-01, ...,\n",
       "            0.00000000e+00,  0.00000000e+00,  0.00000000e+00],\n",
       "          [ 1.37768099e-01,  1.43940854e-01,  1.41346990e-01, ...,\n",
       "            0.00000000e+00,  0.00000000e+00,  0.00000000e+00],\n",
       "          ...,\n",
       "          [ 0.00000000e+00,  0.00000000e+00,  0.00000000e+00, ...,\n",
       "            0.00000000e+00,  0.00000000e+00,  0.00000000e+00],\n",
       "          [ 0.00000000e+00,  0.00000000e+00,  0.00000000e+00, ...,\n",
       "            0.00000000e+00,  0.00000000e+00,  0.00000000e+00],\n",
       "          [ 0.00000000e+00,  0.00000000e+00,  0.00000000e+00, ...,\n",
       "            0.00000000e+00,  0.00000000e+00,  0.00000000e+00]],\n",
       " \n",
       "         [[ 1.17560590e-01,  1.14399049e-01,  1.20184494e-01, ...,\n",
       "            0.00000000e+00,  0.00000000e+00,  0.00000000e+00],\n",
       "          [ 1.21845576e-01,  1.21271209e-01,  1.27948521e-01, ...,\n",
       "            0.00000000e+00,  0.00000000e+00,  0.00000000e+00],\n",
       "          [ 1.20680629e-01,  1.27636695e-01,  1.27350361e-01, ...,\n",
       "            0.00000000e+00,  0.00000000e+00,  0.00000000e+00],\n",
       "          ...,\n",
       "          [ 0.00000000e+00,  0.00000000e+00,  0.00000000e+00, ...,\n",
       "            0.00000000e+00,  0.00000000e+00,  0.00000000e+00],\n",
       "          [ 0.00000000e+00,  0.00000000e+00,  0.00000000e+00, ...,\n",
       "            0.00000000e+00,  0.00000000e+00,  0.00000000e+00],\n",
       "          [ 0.00000000e+00,  0.00000000e+00,  0.00000000e+00, ...,\n",
       "            0.00000000e+00,  0.00000000e+00,  0.00000000e+00]],\n",
       " \n",
       "         [[ 1.13713348e-01,  1.08550005e-01,  1.07748631e-01, ...,\n",
       "            0.00000000e+00,  0.00000000e+00,  0.00000000e+00],\n",
       "          [ 1.16424573e-01,  1.14080817e-01,  1.10585780e-01, ...,\n",
       "            0.00000000e+00,  0.00000000e+00,  0.00000000e+00],\n",
       "          [ 1.08088263e-01,  1.13457258e-01,  1.06748871e-01, ...,\n",
       "            0.00000000e+00,  0.00000000e+00,  0.00000000e+00],\n",
       "          ...,\n",
       "          [ 0.00000000e+00,  0.00000000e+00,  0.00000000e+00, ...,\n",
       "            0.00000000e+00,  0.00000000e+00,  0.00000000e+00],\n",
       "          [ 0.00000000e+00,  0.00000000e+00,  0.00000000e+00, ...,\n",
       "            0.00000000e+00,  0.00000000e+00,  0.00000000e+00],\n",
       "          [ 0.00000000e+00,  0.00000000e+00,  0.00000000e+00, ...,\n",
       "            0.00000000e+00,  0.00000000e+00,  0.00000000e+00]]],\n",
       " \n",
       " \n",
       "        [[[ 0.00000000e+00,  0.00000000e+00,  0.00000000e+00, ...,\n",
       "            0.00000000e+00,  0.00000000e+00,  0.00000000e+00],\n",
       "          [ 0.00000000e+00,  0.00000000e+00,  0.00000000e+00, ...,\n",
       "            0.00000000e+00,  0.00000000e+00,  0.00000000e+00],\n",
       "          [ 0.00000000e+00,  0.00000000e+00,  0.00000000e+00, ...,\n",
       "            0.00000000e+00,  0.00000000e+00,  0.00000000e+00],\n",
       "          ...,\n",
       "          [ 0.00000000e+00,  0.00000000e+00,  0.00000000e+00, ...,\n",
       "            0.00000000e+00,  0.00000000e+00,  0.00000000e+00],\n",
       "          [ 0.00000000e+00,  0.00000000e+00,  0.00000000e+00, ...,\n",
       "            0.00000000e+00,  0.00000000e+00,  0.00000000e+00],\n",
       "          [ 0.00000000e+00,  0.00000000e+00,  0.00000000e+00, ...,\n",
       "            0.00000000e+00,  0.00000000e+00,  0.00000000e+00]],\n",
       " \n",
       "         [[ 0.00000000e+00,  0.00000000e+00,  0.00000000e+00, ...,\n",
       "            0.00000000e+00,  0.00000000e+00,  0.00000000e+00],\n",
       "          [ 0.00000000e+00,  0.00000000e+00,  0.00000000e+00, ...,\n",
       "            0.00000000e+00,  0.00000000e+00,  0.00000000e+00],\n",
       "          [ 0.00000000e+00,  0.00000000e+00,  0.00000000e+00, ...,\n",
       "            0.00000000e+00,  0.00000000e+00,  0.00000000e+00],\n",
       "          ...,\n",
       "          [ 0.00000000e+00,  0.00000000e+00,  0.00000000e+00, ...,\n",
       "            0.00000000e+00,  0.00000000e+00,  0.00000000e+00],\n",
       "          [ 0.00000000e+00,  0.00000000e+00,  0.00000000e+00, ...,\n",
       "            0.00000000e+00,  0.00000000e+00,  0.00000000e+00],\n",
       "          [ 0.00000000e+00,  0.00000000e+00,  0.00000000e+00, ...,\n",
       "            0.00000000e+00,  0.00000000e+00,  0.00000000e+00]],\n",
       " \n",
       "         [[ 0.00000000e+00,  0.00000000e+00,  0.00000000e+00, ...,\n",
       "            0.00000000e+00,  0.00000000e+00,  0.00000000e+00],\n",
       "          [ 0.00000000e+00,  0.00000000e+00,  0.00000000e+00, ...,\n",
       "            0.00000000e+00,  0.00000000e+00,  0.00000000e+00],\n",
       "          [ 0.00000000e+00,  0.00000000e+00,  0.00000000e+00, ...,\n",
       "            0.00000000e+00,  0.00000000e+00,  0.00000000e+00],\n",
       "          ...,\n",
       "          [ 0.00000000e+00,  0.00000000e+00,  0.00000000e+00, ...,\n",
       "            0.00000000e+00,  0.00000000e+00,  0.00000000e+00],\n",
       "          [ 0.00000000e+00,  0.00000000e+00,  0.00000000e+00, ...,\n",
       "            0.00000000e+00,  0.00000000e+00,  0.00000000e+00],\n",
       "          [ 0.00000000e+00,  0.00000000e+00,  0.00000000e+00, ...,\n",
       "            0.00000000e+00,  0.00000000e+00,  0.00000000e+00]]]]),\n",
       " 'label': array([0, 0, 0, 0, 0, 0, 0, 0, 0, 0, 0, 0, 0, 0, 0, 0, 0, 0, 0, 0, 0, 0,\n",
       "        0, 0, 0, 0, 0, 0, 0, 0, 0, 0, 0, 0, 0, 0, 0, 0, 0, 0, 0, 0, 0, 0,\n",
       "        0, 0, 0, 0, 0, 0, 0, 0, 0, 0, 0, 0, 0, 0, 0, 0, 0, 0, 0, 0])}"
      ]
     },
     "execution_count": 2,
     "metadata": {},
     "output_type": "execute_result"
    }
   ],
   "source": [
    "test[0]"
   ]
  },
  {
   "cell_type": "code",
   "execution_count": 7,
   "metadata": {},
   "outputs": [
    {
     "name": "stderr",
     "output_type": "stream",
     "text": [
      "Clipping input data to the valid range for imshow with RGB data ([0..1] for floats or [0..255] for integers).\n"
     ]
    },
    {
     "data": {
      "text/plain": [
       "<matplotlib.image.AxesImage at 0x1f455560640>"
      ]
     },
     "execution_count": 7,
     "metadata": {},
     "output_type": "execute_result"
    },
    {
     "data": {
      "image/png": "[encoded data removed]",
      "text/plain": [
       "<Figure size 432x288 with 1 Axes>"
      ]
     },
     "metadata": {
      "needs_background": "light"
     },
     "output_type": "display_data"
    }
   ],
   "source": [
    "plt.imshow(scaled_up)"
   ]
  },
  {
   "cell_type": "code",
   "execution_count": 63,
   "metadata": {},
   "outputs": [
    {
     "data": {
      "text/plain": [
       "(64, 3, 224, 224)"
      ]
     },
     "execution_count": 63,
     "metadata": {},
     "output_type": "execute_result"
    }
   ],
   "source": [
    "imgc['image'].shape"
   ]
  },
  {
   "cell_type": "code",
   "execution_count": 37,
   "metadata": {},
   "outputs": [
    {
     "data": {
      "text/plain": [
       "248"
      ]
     },
     "execution_count": 37,
     "metadata": {},
     "output_type": "execute_result"
    }
   ],
   "source": [
    "250//8*8"
   ]
  },
  {
   "cell_type": "code",
   "execution_count": 23,
   "metadata": {},
   "outputs": [],
   "source": [
    "val = GONRefuge(root=data_root, purpose='val')#, transform=transforms)"
   ]
  },
  {
   "cell_type": "code",
   "execution_count": 28,
   "metadata": {},
   "outputs": [
    {
     "data": {
      "text/plain": [
       "(2056, 2124, 3)"
      ]
     },
     "execution_count": 28,
     "metadata": {},
     "output_type": "execute_result"
    }
   ],
   "source": [
    "val[0]['image'].shape"
   ]
  },
  {
   "cell_type": "code",
   "execution_count": 1,
   "metadata": {},
   "outputs": [],
   "source": [
    "    import os\n",
    "\n",
    "    ## PyTorch\n",
    "    import torch\n",
    "    import torch.optim as optim\n",
    "\n",
    "    from data_processing.glaucoma import GONRefuge\n",
    "    from data_processing.data_generator_approach_2 import DataGeneratorA2\n",
    "    from data_processing.transforms import *\n",
    "    from approach_2.model import VisionTransformerEmbedded\n",
    "    #from approach_1.attention_training import AttentionSolver\n",
    "\n",
    "\n",
    "    hparams = {\n",
    "        'batch_size': 8,\n",
    "        'learning_rate': 1e-3,\n",
    "        'epochs': 2,\n",
    "        'loss_func': torch.nn.BCEWithLogitsLoss(),\n",
    "        'optimizer': optim.AdamW\n",
    "    }\n",
    "\n",
    "    repo_root = os.path.abspath(os.getcwd())\n",
    "    data_root = os.path.join(repo_root, \"data\")\n",
    "\n",
    "    patch_size = 16 #this is not used either way\n",
    "    num_patches = 2 #8\n",
    "    num_classes = 2\n",
    "\n",
    "    transforms = [RescaleTransform(), Patches_new(patch_num=num_patches), Resize()]\n",
    "    train = GONRefuge(root=data_root, purpose='train', transform=transforms)\n",
    "    val = GONRefuge(root=data_root, purpose='val', transform=transforms)\n",
    "\n",
    "    train_dataloader = DataGeneratorA2(train, batch_size=hparams[\"batch_size\"], flatten_batch=True)\n",
    "    val_dataloader = DataGeneratorA2(val, batch_size=hparams[\"batch_size\"], flatten_batch=True)\n",
    "\n",
    "    model = VisionTransformerEmbedded(**{\n",
    "                                    'embed_dim': 256,\n",
    "                                    'hidden_dim': 512,\n",
    "                                    'num_heads': 4,\n",
    "                                    'num_layers': 2,\n",
    "                                    'patch_size': patch_size,\n",
    "                                    'num_patches': num_patches**2,\n",
    "                                    'num_classes': num_classes,\n",
    "                                    'dropout': 0.2,\n",
    "                                    'hparams': hparams\n",
    "                                })\n"
   ]
  },
  {
   "cell_type": "code",
   "execution_count": 9,
   "metadata": {},
   "outputs": [],
   "source": [
    "m = torch.nn.Sigmoid()\n",
    "loss = torch.nn.BCELoss()\n",
    "input = torch.randn(3, requires_grad=True)\n",
    "target = torch.empty(3).random_(2)"
   ]
  },
  {
   "cell_type": "code",
   "execution_count": 19,
   "metadata": {},
   "outputs": [
    {
     "data": {
      "text/plain": [
       "tensor(0.2014)"
      ]
     },
     "execution_count": 19,
     "metadata": {},
     "output_type": "execute_result"
    }
   ],
   "source": [
    "target = torch.ones([10, 64], dtype=torch.float32)  # 64 classes, batch size = 10\n",
    "output = torch.full([10, 64], 1.5)  # A prediction (logit)\n",
    "pos_weight = torch.ones([64])  # All weights are equal to 1\n",
    "criterion = torch.nn.BCEWithLogitsLoss()\n",
    "criterion(output, target)"
   ]
  },
  {
   "cell_type": "code",
   "execution_count": 43,
   "metadata": {},
   "outputs": [],
   "source": [
    "loss = torch.nn.BCEWithLogitsLoss()\n",
    "input = torch.randn(3, requires_grad=True)\n",
    "target = torch.empty(3).random_(2)\n",
    "output = loss(input, target)"
   ]
  },
  {
   "cell_type": "code",
   "execution_count": 18,
   "metadata": {},
   "outputs": [
    {
     "data": {
      "text/plain": [
       "tensor([[1.5000, 1.5000, 1.5000, 1.5000, 1.5000, 1.5000, 1.5000, 1.5000, 1.5000,\n",
       "         1.5000, 1.5000, 1.5000, 1.5000, 1.5000, 1.5000, 1.5000, 1.5000, 1.5000,\n",
       "         1.5000, 1.5000, 1.5000, 1.5000, 1.5000, 1.5000, 1.5000, 1.5000, 1.5000,\n",
       "         1.5000, 1.5000, 1.5000, 1.5000, 1.5000, 1.5000, 1.5000, 1.5000, 1.5000,\n",
       "         1.5000, 1.5000, 1.5000, 1.5000, 1.5000, 1.5000, 1.5000, 1.5000, 1.5000,\n",
       "         1.5000, 1.5000, 1.5000, 1.5000, 1.5000, 1.5000, 1.5000, 1.5000, 1.5000,\n",
       "         1.5000, 1.5000, 1.5000, 1.5000, 1.5000, 1.5000, 1.5000, 1.5000, 1.5000,\n",
       "         1.5000],\n",
       "        [1.5000, 1.5000, 1.5000, 1.5000, 1.5000, 1.5000, 1.5000, 1.5000, 1.5000,\n",
       "         1.5000, 1.5000, 1.5000, 1.5000, 1.5000, 1.5000, 1.5000, 1.5000, 1.5000,\n",
       "         1.5000, 1.5000, 1.5000, 1.5000, 1.5000, 1.5000, 1.5000, 1.5000, 1.5000,\n",
       "         1.5000, 1.5000, 1.5000, 1.5000, 1.5000, 1.5000, 1.5000, 1.5000, 1.5000,\n",
       "         1.5000, 1.5000, 1.5000, 1.5000, 1.5000, 1.5000, 1.5000, 1.5000, 1.5000,\n",
       "         1.5000, 1.5000, 1.5000, 1.5000, 1.5000, 1.5000, 1.5000, 1.5000, 1.5000,\n",
       "         1.5000, 1.5000, 1.5000, 1.5000, 1.5000, 1.5000, 1.5000, 1.5000, 1.5000,\n",
       "         1.5000],\n",
       "        [1.5000, 1.5000, 1.5000, 1.5000, 1.5000, 1.5000, 1.5000, 1.5000, 1.5000,\n",
       "         1.5000, 1.5000, 1.5000, 1.5000, 1.5000, 1.5000, 1.5000, 1.5000, 1.5000,\n",
       "         1.5000, 1.5000, 1.5000, 1.5000, 1.5000, 1.5000, 1.5000, 1.5000, 1.5000,\n",
       "         1.5000, 1.5000, 1.5000, 1.5000, 1.5000, 1.5000, 1.5000, 1.5000, 1.5000,\n",
       "         1.5000, 1.5000, 1.5000, 1.5000, 1.5000, 1.5000, 1.5000, 1.5000, 1.5000,\n",
       "         1.5000, 1.5000, 1.5000, 1.5000, 1.5000, 1.5000, 1.5000, 1.5000, 1.5000,\n",
       "         1.5000, 1.5000, 1.5000, 1.5000, 1.5000, 1.5000, 1.5000, 1.5000, 1.5000,\n",
       "         1.5000],\n",
       "        [1.5000, 1.5000, 1.5000, 1.5000, 1.5000, 1.5000, 1.5000, 1.5000, 1.5000,\n",
       "         1.5000, 1.5000, 1.5000, 1.5000, 1.5000, 1.5000, 1.5000, 1.5000, 1.5000,\n",
       "         1.5000, 1.5000, 1.5000, 1.5000, 1.5000, 1.5000, 1.5000, 1.5000, 1.5000,\n",
       "         1.5000, 1.5000, 1.5000, 1.5000, 1.5000, 1.5000, 1.5000, 1.5000, 1.5000,\n",
       "         1.5000, 1.5000, 1.5000, 1.5000, 1.5000, 1.5000, 1.5000, 1.5000, 1.5000,\n",
       "         1.5000, 1.5000, 1.5000, 1.5000, 1.5000, 1.5000, 1.5000, 1.5000, 1.5000,\n",
       "         1.5000, 1.5000, 1.5000, 1.5000, 1.5000, 1.5000, 1.5000, 1.5000, 1.5000,\n",
       "         1.5000],\n",
       "        [1.5000, 1.5000, 1.5000, 1.5000, 1.5000, 1.5000, 1.5000, 1.5000, 1.5000,\n",
       "         1.5000, 1.5000, 1.5000, 1.5000, 1.5000, 1.5000, 1.5000, 1.5000, 1.5000,\n",
       "         1.5000, 1.5000, 1.5000, 1.5000, 1.5000, 1.5000, 1.5000, 1.5000, 1.5000,\n",
       "         1.5000, 1.5000, 1.5000, 1.5000, 1.5000, 1.5000, 1.5000, 1.5000, 1.5000,\n",
       "         1.5000, 1.5000, 1.5000, 1.5000, 1.5000, 1.5000, 1.5000, 1.5000, 1.5000,\n",
       "         1.5000, 1.5000, 1.5000, 1.5000, 1.5000, 1.5000, 1.5000, 1.5000, 1.5000,\n",
       "         1.5000, 1.5000, 1.5000, 1.5000, 1.5000, 1.5000, 1.5000, 1.5000, 1.5000,\n",
       "         1.5000],\n",
       "        [1.5000, 1.5000, 1.5000, 1.5000, 1.5000, 1.5000, 1.5000, 1.5000, 1.5000,\n",
       "         1.5000, 1.5000, 1.5000, 1.5000, 1.5000, 1.5000, 1.5000, 1.5000, 1.5000,\n",
       "         1.5000, 1.5000, 1.5000, 1.5000, 1.5000, 1.5000, 1.5000, 1.5000, 1.5000,\n",
       "         1.5000, 1.5000, 1.5000, 1.5000, 1.5000, 1.5000, 1.5000, 1.5000, 1.5000,\n",
       "         1.5000, 1.5000, 1.5000, 1.5000, 1.5000, 1.5000, 1.5000, 1.5000, 1.5000,\n",
       "         1.5000, 1.5000, 1.5000, 1.5000, 1.5000, 1.5000, 1.5000, 1.5000, 1.5000,\n",
       "         1.5000, 1.5000, 1.5000, 1.5000, 1.5000, 1.5000, 1.5000, 1.5000, 1.5000,\n",
       "         1.5000],\n",
       "        [1.5000, 1.5000, 1.5000, 1.5000, 1.5000, 1.5000, 1.5000, 1.5000, 1.5000,\n",
       "         1.5000, 1.5000, 1.5000, 1.5000, 1.5000, 1.5000, 1.5000, 1.5000, 1.5000,\n",
       "         1.5000, 1.5000, 1.5000, 1.5000, 1.5000, 1.5000, 1.5000, 1.5000, 1.5000,\n",
       "         1.5000, 1.5000, 1.5000, 1.5000, 1.5000, 1.5000, 1.5000, 1.5000, 1.5000,\n",
       "         1.5000, 1.5000, 1.5000, 1.5000, 1.5000, 1.5000, 1.5000, 1.5000, 1.5000,\n",
       "         1.5000, 1.5000, 1.5000, 1.5000, 1.5000, 1.5000, 1.5000, 1.5000, 1.5000,\n",
       "         1.5000, 1.5000, 1.5000, 1.5000, 1.5000, 1.5000, 1.5000, 1.5000, 1.5000,\n",
       "         1.5000],\n",
       "        [1.5000, 1.5000, 1.5000, 1.5000, 1.5000, 1.5000, 1.5000, 1.5000, 1.5000,\n",
       "         1.5000, 1.5000, 1.5000, 1.5000, 1.5000, 1.5000, 1.5000, 1.5000, 1.5000,\n",
       "         1.5000, 1.5000, 1.5000, 1.5000, 1.5000, 1.5000, 1.5000, 1.5000, 1.5000,\n",
       "         1.5000, 1.5000, 1.5000, 1.5000, 1.5000, 1.5000, 1.5000, 1.5000, 1.5000,\n",
       "         1.5000, 1.5000, 1.5000, 1.5000, 1.5000, 1.5000, 1.5000, 1.5000, 1.5000,\n",
       "         1.5000, 1.5000, 1.5000, 1.5000, 1.5000, 1.5000, 1.5000, 1.5000, 1.5000,\n",
       "         1.5000, 1.5000, 1.5000, 1.5000, 1.5000, 1.5000, 1.5000, 1.5000, 1.5000,\n",
       "         1.5000],\n",
       "        [1.5000, 1.5000, 1.5000, 1.5000, 1.5000, 1.5000, 1.5000, 1.5000, 1.5000,\n",
       "         1.5000, 1.5000, 1.5000, 1.5000, 1.5000, 1.5000, 1.5000, 1.5000, 1.5000,\n",
       "         1.5000, 1.5000, 1.5000, 1.5000, 1.5000, 1.5000, 1.5000, 1.5000, 1.5000,\n",
       "         1.5000, 1.5000, 1.5000, 1.5000, 1.5000, 1.5000, 1.5000, 1.5000, 1.5000,\n",
       "         1.5000, 1.5000, 1.5000, 1.5000, 1.5000, 1.5000, 1.5000, 1.5000, 1.5000,\n",
       "         1.5000, 1.5000, 1.5000, 1.5000, 1.5000, 1.5000, 1.5000, 1.5000, 1.5000,\n",
       "         1.5000, 1.5000, 1.5000, 1.5000, 1.5000, 1.5000, 1.5000, 1.5000, 1.5000,\n",
       "         1.5000],\n",
       "        [1.5000, 1.5000, 1.5000, 1.5000, 1.5000, 1.5000, 1.5000, 1.5000, 1.5000,\n",
       "         1.5000, 1.5000, 1.5000, 1.5000, 1.5000, 1.5000, 1.5000, 1.5000, 1.5000,\n",
       "         1.5000, 1.5000, 1.5000, 1.5000, 1.5000, 1.5000, 1.5000, 1.5000, 1.5000,\n",
       "         1.5000, 1.5000, 1.5000, 1.5000, 1.5000, 1.5000, 1.5000, 1.5000, 1.5000,\n",
       "         1.5000, 1.5000, 1.5000, 1.5000, 1.5000, 1.5000, 1.5000, 1.5000, 1.5000,\n",
       "         1.5000, 1.5000, 1.5000, 1.5000, 1.5000, 1.5000, 1.5000, 1.5000, 1.5000,\n",
       "         1.5000, 1.5000, 1.5000, 1.5000, 1.5000, 1.5000, 1.5000, 1.5000, 1.5000,\n",
       "         1.5000]])"
      ]
     },
     "execution_count": 18,
     "metadata": {},
     "output_type": "execute_result"
    }
   ],
   "source": [
    "output"
   ]
  },
  {
   "cell_type": "code",
   "execution_count": 12,
   "metadata": {},
   "outputs": [
    {
     "data": {
      "text/plain": [
       "tensor([1., 1., 1.])"
      ]
     },
     "execution_count": 12,
     "metadata": {},
     "output_type": "execute_result"
    }
   ],
   "source": [
    "target"
   ]
  },
  {
   "cell_type": "code",
   "execution_count": 2,
   "metadata": {},
   "outputs": [],
   "source": [
    "example_batch = next(iter(train_dataloader))"
   ]
  },
  {
   "cell_type": "code",
   "execution_count": 3,
   "metadata": {},
   "outputs": [],
   "source": [
    "predictions = model.forward(example_batch['image'])"
   ]
  },
  {
   "cell_type": "code",
   "execution_count": 39,
   "metadata": {},
   "outputs": [
    {
     "data": {
      "text/plain": [
       "tensor([[-0.0469, -0.9155],\n",
       "        [-0.0263, -1.1087],\n",
       "        [ 0.6828, -0.4129],\n",
       "        [-0.1633, -0.5667],\n",
       "        [-0.1658, -0.6414],\n",
       "        [-0.1389, -0.9289],\n",
       "        [ 0.4805, -0.3976],\n",
       "        [ 0.2898, -0.8653]], grad_fn=<AddmmBackward>)"
      ]
     },
     "execution_count": 39,
     "metadata": {},
     "output_type": "execute_result"
    }
   ],
   "source": [
    "predictions"
   ]
  },
  {
   "cell_type": "code",
   "execution_count": null,
   "metadata": {},
   "outputs": [],
   "source": [
    "predictions.sigmoid"
   ]
  },
  {
   "cell_type": "code",
   "execution_count": 40,
   "metadata": {},
   "outputs": [
    {
     "ename": "TypeError",
     "evalue": "__init__() got multiple values for argument 'dim'",
     "output_type": "error",
     "traceback": [
      "\u001b[1;31m---------------------------------------------------------------------------\u001b[0m",
      "\u001b[1;31mTypeError\u001b[0m                                 Traceback (most recent call last)",
      "\u001b[1;32m~\\AppData\\Local\\Temp/ipykernel_16908/988821540.py\u001b[0m in \u001b[0;36m<module>\u001b[1;34m\u001b[0m\n\u001b[1;32m----> 1\u001b[1;33m \u001b[0ma\u001b[0m \u001b[1;33m=\u001b[0m \u001b[0mtorch\u001b[0m\u001b[1;33m.\u001b[0m\u001b[0mnn\u001b[0m\u001b[1;33m.\u001b[0m\u001b[0mSoftmax\u001b[0m\u001b[1;33m(\u001b[0m\u001b[0mpredictions\u001b[0m\u001b[1;33m[\u001b[0m\u001b[1;36m0\u001b[0m\u001b[1;33m]\u001b[0m\u001b[1;33m,\u001b[0m \u001b[0mdim\u001b[0m\u001b[1;33m=\u001b[0m\u001b[1;36m2\u001b[0m\u001b[1;33m)\u001b[0m\u001b[1;33m\u001b[0m\u001b[1;33m\u001b[0m\u001b[0m\n\u001b[0m",
      "\u001b[1;31mTypeError\u001b[0m: __init__() got multiple values for argument 'dim'"
     ]
    }
   ],
   "source": [
    "a = torch.nn.Softmax(predictions[0], dim=2)"
   ]
  },
  {
   "cell_type": "code",
   "execution_count": 42,
   "metadata": {},
   "outputs": [
    {
     "ename": "IndexError",
     "evalue": "Dimension out of range (expected to be in range of [-2, 1], but got 2)",
     "output_type": "error",
     "traceback": [
      "\u001b[1;31m---------------------------------------------------------------------------\u001b[0m",
      "\u001b[1;31mIndexError\u001b[0m                                Traceback (most recent call last)",
      "\u001b[1;32m~\\AppData\\Local\\Temp/ipykernel_16908/3984714497.py\u001b[0m in \u001b[0;36m<module>\u001b[1;34m\u001b[0m\n\u001b[0;32m      1\u001b[0m \u001b[1;32mimport\u001b[0m \u001b[0mtorch\u001b[0m\u001b[1;33m.\u001b[0m\u001b[0mnn\u001b[0m\u001b[1;33m.\u001b[0m\u001b[0mfunctional\u001b[0m \u001b[1;32mas\u001b[0m \u001b[0mF\u001b[0m\u001b[1;33m\u001b[0m\u001b[1;33m\u001b[0m\u001b[0m\n\u001b[1;32m----> 2\u001b[1;33m \u001b[0mF\u001b[0m\u001b[1;33m.\u001b[0m\u001b[0msoftmax\u001b[0m\u001b[1;33m(\u001b[0m\u001b[0mpredictions\u001b[0m\u001b[1;33m,\u001b[0m \u001b[0mdim\u001b[0m\u001b[1;33m=\u001b[0m\u001b[1;36m2\u001b[0m\u001b[1;33m)\u001b[0m\u001b[1;33m\u001b[0m\u001b[1;33m\u001b[0m\u001b[0m\n\u001b[0m",
      "\u001b[1;32me:\\!LMU\\PythonProjects\\generaldsvenv\\lib\\site-packages\\torch\\nn\\functional.py\u001b[0m in \u001b[0;36msoftmax\u001b[1;34m(input, dim, _stacklevel, dtype)\u001b[0m\n\u001b[0;32m   1510\u001b[0m         \u001b[0mdim\u001b[0m \u001b[1;33m=\u001b[0m \u001b[0m_get_softmax_dim\u001b[0m\u001b[1;33m(\u001b[0m\u001b[1;34m'softmax'\u001b[0m\u001b[1;33m,\u001b[0m \u001b[0minput\u001b[0m\u001b[1;33m.\u001b[0m\u001b[0mdim\u001b[0m\u001b[1;33m(\u001b[0m\u001b[1;33m)\u001b[0m\u001b[1;33m,\u001b[0m \u001b[0m_stacklevel\u001b[0m\u001b[1;33m)\u001b[0m\u001b[1;33m\u001b[0m\u001b[1;33m\u001b[0m\u001b[0m\n\u001b[0;32m   1511\u001b[0m     \u001b[1;32mif\u001b[0m \u001b[0mdtype\u001b[0m \u001b[1;32mis\u001b[0m \u001b[1;32mNone\u001b[0m\u001b[1;33m:\u001b[0m\u001b[1;33m\u001b[0m\u001b[1;33m\u001b[0m\u001b[0m\n\u001b[1;32m-> 1512\u001b[1;33m         \u001b[0mret\u001b[0m \u001b[1;33m=\u001b[0m \u001b[0minput\u001b[0m\u001b[1;33m.\u001b[0m\u001b[0msoftmax\u001b[0m\u001b[1;33m(\u001b[0m\u001b[0mdim\u001b[0m\u001b[1;33m)\u001b[0m\u001b[1;33m\u001b[0m\u001b[1;33m\u001b[0m\u001b[0m\n\u001b[0m\u001b[0;32m   1513\u001b[0m     \u001b[1;32melse\u001b[0m\u001b[1;33m:\u001b[0m\u001b[1;33m\u001b[0m\u001b[1;33m\u001b[0m\u001b[0m\n\u001b[0;32m   1514\u001b[0m         \u001b[0mret\u001b[0m \u001b[1;33m=\u001b[0m \u001b[0minput\u001b[0m\u001b[1;33m.\u001b[0m\u001b[0msoftmax\u001b[0m\u001b[1;33m(\u001b[0m\u001b[0mdim\u001b[0m\u001b[1;33m,\u001b[0m \u001b[0mdtype\u001b[0m\u001b[1;33m=\u001b[0m\u001b[0mdtype\u001b[0m\u001b[1;33m)\u001b[0m\u001b[1;33m\u001b[0m\u001b[1;33m\u001b[0m\u001b[0m\n",
      "\u001b[1;31mIndexError\u001b[0m: Dimension out of range (expected to be in range of [-2, 1], but got 2)"
     ]
    }
   ],
   "source": [
    "import torch.nn.functional as F\n",
    "F.softmax(predictions[1], dim=2)"
   ]
  },
  {
   "cell_type": "code",
   "execution_count": 36,
   "metadata": {},
   "outputs": [
    {
     "data": {
      "text/plain": [
       "Softmax(dim=tensor([-0.0469, -0.9155], grad_fn=<SelectBackward>))"
      ]
     },
     "execution_count": 36,
     "metadata": {},
     "output_type": "execute_result"
    }
   ],
   "source": [
    "a"
   ]
  },
  {
   "cell_type": "code",
   "execution_count": 55,
   "metadata": {},
   "outputs": [
    {
     "data": {
      "text/plain": [
       "tensor([-0.9155, -1.1087, -0.4129, -0.5667, -0.6414, -0.9289, -0.3976, -0.8653],\n",
       "       grad_fn=<SelectBackward>)"
      ]
     },
     "execution_count": 55,
     "metadata": {},
     "output_type": "execute_result"
    }
   ],
   "source": [
    "predictions[:, 1]"
   ]
  },
  {
   "cell_type": "code",
   "execution_count": 29,
   "metadata": {},
   "outputs": [
    {
     "ename": "TypeError",
     "evalue": "__init__() takes 1 positional argument but 2 were given",
     "output_type": "error",
     "traceback": [
      "\u001b[1;31m---------------------------------------------------------------------------\u001b[0m",
      "\u001b[1;31mTypeError\u001b[0m                                 Traceback (most recent call last)",
      "\u001b[1;32m~\\AppData\\Local\\Temp/ipykernel_16908/3736078384.py\u001b[0m in \u001b[0;36m<module>\u001b[1;34m\u001b[0m\n\u001b[1;32m----> 1\u001b[1;33m \u001b[0mtorch\u001b[0m\u001b[1;33m.\u001b[0m\u001b[0mnn\u001b[0m\u001b[1;33m.\u001b[0m\u001b[0mSigmoid\u001b[0m\u001b[1;33m(\u001b[0m\u001b[0mpredictions\u001b[0m\u001b[1;33m[\u001b[0m\u001b[1;36m0\u001b[0m\u001b[1;33m]\u001b[0m\u001b[1;33m[\u001b[0m\u001b[1;36m0\u001b[0m\u001b[1;33m]\u001b[0m\u001b[1;33m)\u001b[0m\u001b[1;33m\u001b[0m\u001b[1;33m\u001b[0m\u001b[0m\n\u001b[0m",
      "\u001b[1;31mTypeError\u001b[0m: __init__() takes 1 positional argument but 2 were given"
     ]
    }
   ],
   "source": [
    "torch.nn.Sigmoid(predictions[0][0])"
   ]
  },
  {
   "cell_type": "code",
   "execution_count": 51,
   "metadata": {},
   "outputs": [
    {
     "data": {
      "text/plain": [
       "tensor([0, 1, 0, 0, 1, 0, 1, 0])"
      ]
     },
     "execution_count": 51,
     "metadata": {},
     "output_type": "execute_result"
    }
   ],
   "source": [
    "example_batch['label'][:, 0]"
   ]
  },
  {
   "cell_type": "code",
   "execution_count": 59,
   "metadata": {},
   "outputs": [
    {
     "data": {
      "text/plain": [
       "tensor(0.6685, grad_fn=<BinaryCrossEntropyWithLogitsBackward>)"
      ]
     },
     "execution_count": 59,
     "metadata": {},
     "output_type": "execute_result"
    }
   ],
   "source": [
    "loss(predictions[:, 1], example_batch['label'][:, 0].float())"
   ]
  },
  {
   "cell_type": "code",
   "execution_count": 58,
   "metadata": {},
   "outputs": [
    {
     "data": {
      "text/plain": [
       "tensor([-0.9155, -1.1087, -0.4129, -0.5667, -0.6414, -0.9289, -0.3976, -0.8653],\n",
       "       grad_fn=<SelectBackward>)"
      ]
     },
     "execution_count": 58,
     "metadata": {},
     "output_type": "execute_result"
    }
   ],
   "source": [
    "predictions[:, 1]"
   ]
  },
  {
   "cell_type": "code",
   "execution_count": 5,
   "metadata": {},
   "outputs": [
    {
     "name": "stdout",
     "output_type": "stream",
     "text": [
      "The autoreload extension is already loaded. To reload it, use:\n",
      "  %reload_ext autoreload\n",
      "(3, 4, 3, 224, 224)\n",
      "shape\n",
      "torch.Size([3, 4, 3, 224, 224])\n",
      "(3, 4, 3, 224, 224)\n",
      "(3, 4, 3, 224, 224)\n"
     ]
    },
    {
     "ename": "KeyboardInterrupt",
     "evalue": "",
     "output_type": "error",
     "traceback": [
      "\u001b[1;31m---------------------------------------------------------------------------\u001b[0m",
      "\u001b[1;31mKeyboardInterrupt\u001b[0m                         Traceback (most recent call last)",
      "\u001b[1;32m<ipython-input-5-669186706751>\u001b[0m in \u001b[0;36m<module>\u001b[1;34m\u001b[0m\n\u001b[0;32m     71\u001b[0m     )\n\u001b[0;32m     72\u001b[0m \u001b[1;33m\u001b[0m\u001b[0m\n\u001b[1;32m---> 73\u001b[1;33m     \u001b[0msolver\u001b[0m\u001b[1;33m.\u001b[0m\u001b[0mtrain\u001b[0m\u001b[1;33m(\u001b[0m\u001b[1;33m)\u001b[0m\u001b[1;33m\u001b[0m\u001b[1;33m\u001b[0m\u001b[0m\n\u001b[0m\u001b[0;32m     74\u001b[0m \u001b[1;33m\u001b[0m\u001b[0m\n\u001b[0;32m     75\u001b[0m \u001b[1;33m\u001b[0m\u001b[0m\n",
      "\u001b[1;32md:\\Workspace\\cv_attention\\approach_2\\glaucoma_training.py\u001b[0m in \u001b[0;36mtrain\u001b[1;34m(self)\u001b[0m\n\u001b[0;32m     77\u001b[0m             \u001b[0mrunning_loss\u001b[0m \u001b[1;33m=\u001b[0m \u001b[1;36m0.0\u001b[0m\u001b[1;33m\u001b[0m\u001b[1;33m\u001b[0m\u001b[0m\n\u001b[0;32m     78\u001b[0m \u001b[1;33m\u001b[0m\u001b[0m\n\u001b[1;32m---> 79\u001b[1;33m             \u001b[1;32mfor\u001b[0m \u001b[0mi\u001b[0m\u001b[1;33m,\u001b[0m \u001b[0mbatch\u001b[0m \u001b[1;32min\u001b[0m \u001b[0menumerate\u001b[0m\u001b[1;33m(\u001b[0m\u001b[0mself\u001b[0m\u001b[1;33m.\u001b[0m\u001b[0mtrain_dataloader\u001b[0m\u001b[1;33m)\u001b[0m\u001b[1;33m:\u001b[0m\u001b[1;33m\u001b[0m\u001b[1;33m\u001b[0m\u001b[0m\n\u001b[0m\u001b[0;32m     80\u001b[0m \u001b[1;33m\u001b[0m\u001b[0m\n\u001b[0;32m     81\u001b[0m                 \u001b[1;32mif\u001b[0m \u001b[1;32mnot\u001b[0m \u001b[0mbatch\u001b[0m\u001b[1;33m:\u001b[0m \u001b[1;32mbreak\u001b[0m\u001b[1;33m\u001b[0m\u001b[1;33m\u001b[0m\u001b[0m\n",
      "\u001b[1;32md:\\Workspace\\cv_attention\\data_processing\\data_generator_approach_2.py\u001b[0m in \u001b[0;36m__iter__\u001b[1;34m(self)\u001b[0m\n\u001b[0;32m     68\u001b[0m         \u001b[1;32mfor\u001b[0m \u001b[0mi\u001b[0m\u001b[1;33m,\u001b[0m \u001b[0mindex\u001b[0m \u001b[1;32min\u001b[0m \u001b[0menumerate\u001b[0m\u001b[1;33m(\u001b[0m\u001b[0mindex_iterator\u001b[0m\u001b[1;33m)\u001b[0m\u001b[1;33m:\u001b[0m  \u001b[1;31m# iterate over indices using the iterator\u001b[0m\u001b[1;33m\u001b[0m\u001b[1;33m\u001b[0m\u001b[0m\n\u001b[0;32m     69\u001b[0m             \u001b[1;31m#print(i, index)\u001b[0m\u001b[1;33m\u001b[0m\u001b[1;33m\u001b[0m\u001b[1;33m\u001b[0m\u001b[0m\n\u001b[1;32m---> 70\u001b[1;33m             \u001b[0mbatch\u001b[0m\u001b[1;33m.\u001b[0m\u001b[0mappend\u001b[0m\u001b[1;33m(\u001b[0m\u001b[0mself\u001b[0m\u001b[1;33m.\u001b[0m\u001b[0mdataset\u001b[0m\u001b[1;33m[\u001b[0m\u001b[0mindex\u001b[0m\u001b[1;33m]\u001b[0m\u001b[1;33m)\u001b[0m\u001b[1;33m\u001b[0m\u001b[1;33m\u001b[0m\u001b[0m\n\u001b[0m\u001b[0;32m     71\u001b[0m             \u001b[1;31m#print(batch[0])\u001b[0m\u001b[1;33m\u001b[0m\u001b[1;33m\u001b[0m\u001b[1;33m\u001b[0m\u001b[0m\n\u001b[0;32m     72\u001b[0m             \u001b[1;32mif\u001b[0m \u001b[0mlen\u001b[0m\u001b[1;33m(\u001b[0m\u001b[0mbatch\u001b[0m\u001b[1;33m)\u001b[0m \u001b[1;33m==\u001b[0m \u001b[0mself\u001b[0m\u001b[1;33m.\u001b[0m\u001b[0mbatch_size\u001b[0m\u001b[1;33m:\u001b[0m\u001b[1;33m\u001b[0m\u001b[1;33m\u001b[0m\u001b[0m\n",
      "\u001b[1;32md:\\Workspace\\cv_attention\\data_processing\\glaucoma.py\u001b[0m in \u001b[0;36m__getitem__\u001b[1;34m(self, index)\u001b[0m\n\u001b[0;32m     83\u001b[0m \u001b[1;33m\u001b[0m\u001b[0m\n\u001b[0;32m     84\u001b[0m         \u001b[1;32mfor\u001b[0m \u001b[0mtransform\u001b[0m \u001b[1;32min\u001b[0m \u001b[0mself\u001b[0m\u001b[1;33m.\u001b[0m\u001b[0mtransform\u001b[0m\u001b[1;33m:\u001b[0m\u001b[1;33m\u001b[0m\u001b[1;33m\u001b[0m\u001b[0m\n\u001b[1;32m---> 85\u001b[1;33m             \u001b[0mdata_dict\u001b[0m \u001b[1;33m=\u001b[0m \u001b[0mtransform\u001b[0m\u001b[1;33m(\u001b[0m\u001b[0mdata_dict\u001b[0m\u001b[1;33m)\u001b[0m\u001b[1;33m\u001b[0m\u001b[1;33m\u001b[0m\u001b[0m\n\u001b[0m\u001b[0;32m     86\u001b[0m \u001b[1;33m\u001b[0m\u001b[0m\n\u001b[0;32m     87\u001b[0m         '''\n",
      "\u001b[1;32md:\\Workspace\\cv_attention\\data_processing\\transforms.py\u001b[0m in \u001b[0;36m__call__\u001b[1;34m(self, img_dict)\u001b[0m\n\u001b[0;32m    140\u001b[0m         \u001b[0mimages\u001b[0m \u001b[1;33m-=\u001b[0m \u001b[0mself\u001b[0m\u001b[1;33m.\u001b[0m\u001b[0m_data_min\u001b[0m\u001b[1;33m\u001b[0m\u001b[1;33m\u001b[0m\u001b[0m\n\u001b[0;32m    141\u001b[0m         \u001b[0mimages\u001b[0m \u001b[1;33m/=\u001b[0m \u001b[1;33m(\u001b[0m\u001b[0mself\u001b[0m\u001b[1;33m.\u001b[0m\u001b[0m_data_max\u001b[0m \u001b[1;33m-\u001b[0m \u001b[0mself\u001b[0m\u001b[1;33m.\u001b[0m\u001b[0m_data_min\u001b[0m\u001b[1;33m)\u001b[0m \u001b[1;33m/\u001b[0m \u001b[1;33m(\u001b[0m\u001b[0mself\u001b[0m\u001b[1;33m.\u001b[0m\u001b[0mmax\u001b[0m \u001b[1;33m-\u001b[0m \u001b[0mself\u001b[0m\u001b[1;33m.\u001b[0m\u001b[0mmin\u001b[0m\u001b[1;33m)\u001b[0m\u001b[1;33m\u001b[0m\u001b[1;33m\u001b[0m\u001b[0m\n\u001b[1;32m--> 142\u001b[1;33m         \u001b[0mimages\u001b[0m \u001b[1;33m+=\u001b[0m \u001b[0mself\u001b[0m\u001b[1;33m.\u001b[0m\u001b[0mmin\u001b[0m\u001b[1;33m\u001b[0m\u001b[1;33m\u001b[0m\u001b[0m\n\u001b[0m\u001b[0;32m    143\u001b[0m         \u001b[0mimg_dict\u001b[0m\u001b[1;33m[\u001b[0m\u001b[1;34m'image'\u001b[0m\u001b[1;33m]\u001b[0m \u001b[1;33m=\u001b[0m \u001b[0mimages\u001b[0m\u001b[1;33m\u001b[0m\u001b[1;33m\u001b[0m\u001b[0m\n\u001b[0;32m    144\u001b[0m \u001b[1;33m\u001b[0m\u001b[0m\n",
      "\u001b[1;31mKeyboardInterrupt\u001b[0m: "
     ]
    }
   ],
   "source": [
    "import os\n",
    "\n",
    "%load_ext autoreload\n",
    "%autoreload 2\n",
    "\n",
    "## PyTorch\n",
    "import torch\n",
    "import torch.nn as nn\n",
    "import torch.nn.functional as F\n",
    "import torch.utils.data as data\n",
    "import torch.optim as optim\n",
    "\n",
    "from data_processing.glaucoma import GONRefuge\n",
    "from data_processing.data_generator_approach_2 import DataGeneratorA2\n",
    "from data_processing.transforms import *\n",
    "from approach_2.model import VisionTransformerEmbedded\n",
    "from approach_2.glaucoma_training import GlaucomaSolver\n",
    "\n",
    "if __name__ == \"__main__\":\n",
    "    hparams = {\n",
    "        'batch_size': 3, #5\n",
    "        'learning_rate': 1e-4,\n",
    "        'epochs': 10,\n",
    "        'loss_func': torch.nn.BCEWithLogitsLoss(),\n",
    "        'optimizer': optim.AdamW\n",
    "    }\n",
    "\n",
    "    repo_root = os.path.abspath(os.getcwd())\n",
    "    data_root = os.path.join(repo_root, \"data\")\n",
    "\n",
    "    patch_size = 16 #this is not used either way\n",
    "    num_patches = 2 #8\n",
    "    num_classes = 2\n",
    "\n",
    "    transforms = [RescaleTransform(), Patches_new(patch_num=num_patches), Resize()]\n",
    "    train = GONRefuge(root=data_root, purpose='train', transform=transforms)\n",
    "    val = GONRefuge(root=data_root, purpose='val', transform=transforms)\n",
    "\n",
    "\n",
    "    train_dataloader = DataGeneratorA2(train, batch_size=hparams[\"batch_size\"], flatten_batch=True)\n",
    "    # next(iter(train_dataloader))['image'].shpe -> torch.Size([3, 4, 3, 224, 224])\n",
    "    val_dataloader = DataGeneratorA2(val, batch_size=hparams[\"batch_size\"], flatten_batch=True)\n",
    "\n",
    "    etc= next(iter(train_dataloader))\n",
    "    print(\"shape\")\n",
    "    print(etc['image'].shape)\n",
    "    model = VisionTransformerEmbedded(**{\n",
    "                                    'embed_dim': 256,\n",
    "                                    'hidden_dim': 512,\n",
    "                                    'num_heads': 4,\n",
    "                                    'num_layers': 2,\n",
    "                                    'patch_size': patch_size,\n",
    "                                    'num_patches': num_patches**2,\n",
    "                                    'num_classes': num_classes,\n",
    "                                    'dropout': 0.2,\n",
    "                                    'hparams': hparams\n",
    "                                })\n",
    "\n",
    "\n",
    "\n",
    "    device = torch.device(\"cuda:0\" if torch.cuda.is_available() else \"cpu\")\n",
    "    patience = 10\n",
    "\n",
    "\n",
    "    solver = GlaucomaSolver(\n",
    "        model=model,\n",
    "        train_dataloader=train_dataloader,\n",
    "        val_dataloader=val_dataloader,\n",
    "        device=device,\n",
    "        patience=patience\n",
    "    )\n",
    "\n",
    "    solver.train()\n",
    "\n",
    "\n",
    "    #debug the remaining small batch!!!"
   ]
  },
  {
   "cell_type": "code",
   "execution_count": null,
   "metadata": {},
   "outputs": [],
   "source": [
    "256"
   ]
  },
  {
   "cell_type": "code",
   "execution_count": null,
   "metadata": {},
   "outputs": [],
   "source": [
    "1024"
   ]
  },
  {
   "cell_type": "code",
   "execution_count": 1,
   "metadata": {},
   "outputs": [
    {
     "data": {
      "text/plain": [
       "150528"
      ]
     },
     "execution_count": 1,
     "metadata": {},
     "output_type": "execute_result"
    }
   ],
   "source": [
    "224*224*3"
   ]
  },
  {
   "cell_type": "code",
   "execution_count": 3,
   "metadata": {},
   "outputs": [
    {
     "data": {
      "text/plain": [
       "49152"
      ]
     },
     "execution_count": 3,
     "metadata": {},
     "output_type": "execute_result"
    }
   ],
   "source": [
    "128*128*3"
   ]
  },
  {
   "cell_type": "code",
   "execution_count": 5,
   "metadata": {},
   "outputs": [
    {
     "data": {
      "text/plain": [
       "256"
      ]
     },
     "execution_count": 5,
     "metadata": {},
     "output_type": "execute_result"
    }
   ],
   "source": [
    "16*16"
   ]
  },
  {
   "cell_type": "code",
   "execution_count": 6,
   "metadata": {},
   "outputs": [
    {
     "data": {
      "text/plain": [
       "4366944"
      ]
     },
     "execution_count": 6,
     "metadata": {},
     "output_type": "execute_result"
    }
   ],
   "source": [
    "2124*2056\n",
    "1634*1634"
   ]
  },
  {
   "cell_type": "code",
   "execution_count": 22,
   "metadata": {},
   "outputs": [
    {
     "data": {
      "text/plain": [
       "37632"
      ]
     },
     "execution_count": 22,
     "metadata": {},
     "output_type": "execute_result"
    }
   ],
   "source": [
    "112*112*3"
   ]
  },
  {
   "cell_type": "code",
   "execution_count": 23,
   "metadata": {},
   "outputs": [
    {
     "data": {
      "text/plain": [
       "1024"
      ]
     },
     "execution_count": 23,
     "metadata": {},
     "output_type": "execute_result"
    }
   ],
   "source": [
    "64*4*4"
   ]
  },
  {
   "cell_type": "code",
   "execution_count": null,
   "metadata": {},
   "outputs": [],
   "source": [
    "800x1500"
   ]
  },
  {
   "cell_type": "code",
   "execution_count": null,
   "metadata": {},
   "outputs": [],
   "source": [
    "896*1344"
   ]
  },
  {
   "cell_type": "code",
   "execution_count": 25,
   "metadata": {},
   "outputs": [
    {
     "data": {
      "text/plain": [
       "4.0"
      ]
     },
     "execution_count": 25,
     "metadata": {},
     "output_type": "execute_result"
    }
   ],
   "source": [
    "896/224"
   ]
  },
  {
   "cell_type": "code",
   "execution_count": 17,
   "metadata": {},
   "outputs": [
    {
     "data": {
      "text/plain": [
       "12.0"
      ]
     },
     "execution_count": 17,
     "metadata": {},
     "output_type": "execute_result"
    }
   ],
   "source": [
    "1344/112"
   ]
  },
  {
   "cell_type": "code",
   "execution_count": 19,
   "metadata": {},
   "outputs": [
    {
     "data": {
      "text/plain": [
       "1792"
      ]
     },
     "execution_count": 19,
     "metadata": {},
     "output_type": "execute_result"
    }
   ],
   "source": [
    "224*8"
   ]
  },
  {
   "cell_type": "code",
   "execution_count": 18,
   "metadata": {},
   "outputs": [
    {
     "data": {
      "text/plain": [
       "96"
      ]
     },
     "execution_count": 18,
     "metadata": {},
     "output_type": "execute_result"
    }
   ],
   "source": [
    "12*8"
   ]
  },
  {
   "cell_type": "code",
   "execution_count": 8,
   "metadata": {},
   "outputs": [
    {
     "data": {
      "text/plain": [
       "1344"
      ]
     },
     "execution_count": 8,
     "metadata": {},
     "output_type": "execute_result"
    }
   ],
   "source": [
    "224*6"
   ]
  },
  {
   "cell_type": "code",
   "execution_count": 10,
   "metadata": {},
   "outputs": [
    {
     "data": {
      "text/plain": [
       "896"
      ]
     },
     "execution_count": 10,
     "metadata": {},
     "output_type": "execute_result"
    }
   ],
   "source": [
    "224*4"
   ]
  },
  {
   "cell_type": "code",
   "execution_count": 12,
   "metadata": {},
   "outputs": [
    {
     "data": {
      "text/plain": [
       "9408"
      ]
     },
     "execution_count": 12,
     "metadata": {},
     "output_type": "execute_result"
    }
   ],
   "source": [
    "112*112*3"
   ]
  },
  {
   "cell_type": "code",
   "execution_count": 7,
   "metadata": {},
   "outputs": [
    {
     "data": {
      "text/plain": [
       "708.0"
      ]
     },
     "execution_count": 7,
     "metadata": {},
     "output_type": "execute_result"
    }
   ],
   "source": []
  },
  {
   "cell_type": "code",
   "execution_count": 2,
   "metadata": {},
   "outputs": [
    {
     "data": {
      "text/plain": [
       "3072"
      ]
     },
     "execution_count": 2,
     "metadata": {},
     "output_type": "execute_result"
    }
   ],
   "source": [
    "32*32*3"
   ]
  },
  {
   "cell_type": "code",
   "execution_count": 3,
   "metadata": {},
   "outputs": [
    {
     "name": "stdout",
     "output_type": "stream",
     "text": [
      "The autoreload extension is already loaded. To reload it, use:\n",
      "  %reload_ext autoreload\n",
      "epoch train loss: 1.041268229484558\n",
      "Training accuracy after epoch 1: 0.625\n",
      "Validation accuracy after epoch 1: 0.42500001192092896\n",
      "epoch train loss: 0.7579411864280701\n",
      "Training accuracy after epoch 2: 0.5\n",
      "Validation accuracy after epoch 2: 0.10000000149011612\n",
      "FINISH.\n"
     ]
    }
   ],
   "source": [
    "import numpy as np\n",
    "import os\n",
    "import pickle\n",
    "import matplotlib.pyplot as plt\n",
    "import torch\n",
    "import torch.optim as optim\n",
    "%load_ext autoreload\n",
    "%autoreload 2\n",
    "from data_processing.glaucoma import GONRefuge\n",
    "from data_processing.data_generator import DataGenerator\n",
    "from data_processing.transforms import *\n",
    "from approach_1.models import BaselineResNet\n",
    "from approach_2.glaucoma_training import GlaucomaSolver\n",
    "\n",
    "\n",
    "\n",
    "if __name__ == \"__main__\":\n",
    "    hparams = {\n",
    "    'batch_size': 3,\n",
    "    'learning_rate': 1e-3,\n",
    "    'epochs': 2,\n",
    "    'loss_func': torch.nn.BCEWithLogitsLoss(),\n",
    "    'optimizer': optim.AdamW\n",
    "    }\n",
    "\n",
    "    num_classes = 2\n",
    "    freeze=False\n",
    "    patience = 3\n",
    "    repo_root = os.path.abspath(os.getcwd())\n",
    "    data_root = os.path.join(repo_root, \"data\")\n",
    "    num_patches = 2 #8\n",
    "\n",
    "    transforms = [RescaleTransform(), Patches_new(patch_num=num_patches), Resize()]\n",
    "    # train = Cifar100(root=data_root, purpose='train', seed=seed, split=0.001, transform=transforms)\n",
    "    # val = Cifar100(root=data_root, purpose='val', seed=seed, split=0.999, transform=transforms)\n",
    "\n",
    "    train = GONRefuge(root=data_root, purpose='train', transform=transforms)\n",
    "    val = GONRefuge(root=data_root, purpose='val', transform=transforms)\n",
    "\n",
    "\n",
    "    train_dataloader = DataGenerator(train, batch_size=hparams['batch_size'])\n",
    "    # next(iter(train_dataloader))['image'].shpe -> torch.Size([12 (patch x batch_size), 3, 224, 224])\n",
    "\n",
    "    val_dataloader = DataGenerator(val, batch_size=hparams['batch_size'])\n",
    "    model = BaselineResNet(num_classes=num_classes, hparams=hparams, freeze=freeze)\n",
    "\n",
    "    device = torch.device(\"cuda:0\" if torch.cuda.is_available() else \"cpu\")\n",
    "\n",
    "    solver = GlaucomaSolver(\n",
    "        model=model,\n",
    "        train_dataloader=train_dataloader,\n",
    "        val_dataloader=val_dataloader,\n",
    "        device=device,\n",
    "        patience=patience,\n",
    "        approach=1\n",
    "    )\n",
    "\n",
    "    solver.train()\n",
    "\n",
    "    # os.makedirs('trained_models', exist_ok=True)\n",
    "    # models_path = os.path.join(repo_root, 'trained_models')\n",
    "    # model.save(os.path.join(models_path, f'baselinemodel_batch{hparams[\"batch_size\"]}_lr{hparams[\"learning_rate\"]}_epochs{hparams[\"epochs\"]}_freeze{freeze}.model'))\n"
   ]
  },
  {
   "cell_type": "code",
   "execution_count": 21,
   "metadata": {},
   "outputs": [
    {
     "name": "stdout",
     "output_type": "stream",
     "text": [
      "(2056, 2124, 3)\n"
     ]
    },
    {
     "data": {
      "text/plain": [
       "torch.Size([4, 3, 224, 224])"
      ]
     },
     "execution_count": 21,
     "metadata": {},
     "output_type": "execute_result"
    }
   ],
   "source": [
    "ex = next(iter(train_dataloader))\n",
    "ex['image'].shape"
   ]
  }
 ],
 "metadata": {
  "interpreter": {
   "hash": "b45849bedf138322d2221bcb2217608106802e6f4d83afc8022a76b83ff9f9fb"
  },
  "kernelspec": {
   "display_name": "Python 3.8.8 64-bit ('ldam': venv)",
   "language": "python",
   "name": "python3"
  },
  "language_info": {
   "codemirror_mode": {
    "name": "ipython",
    "version": 3
   },
   "file_extension": ".py",
   "mimetype": "text/x-python",
   "name": "python",
   "nbconvert_exporter": "python",
   "pygments_lexer": "ipython3",
   "version": "3.8.8"
  },
  "orig_nbformat": 4
 },
 "nbformat": 4,
 "nbformat_minor": 2
}
